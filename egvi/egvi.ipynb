{
 "cells": [
  {
   "cell_type": "code",
   "execution_count": null,
   "metadata": {
    "collapsed": true
   },
   "outputs": [],
   "source": [
    "%matplotlib inline\n",
    "%load_ext autoreload\n",
    "%autoreload 2"
   ]
  },
  {
   "cell_type": "code",
   "execution_count": null,
   "metadata": {
    "collapsed": true
   },
   "outputs": [],
   "source": [
    "%%javascript\n",
    "IPython.OutputArea.prototype._should_scroll = function(lines) {\n",
    "    return false;\n",
    "}"
   ]
  },
  {
   "cell_type": "code",
   "execution_count": null,
   "metadata": {
    "collapsed": true
   },
   "outputs": [],
   "source": [
    "from disambiguator import WSD\n",
    "from pandas import read_csv \n",
    "\n",
    "max_context_words = 3 # change this paramters to 1, 2, 5, 10, 15, 20 : it may improve the results\n",
    "context_window_size = 20 # this parameters can be also changed during experiments \n",
    "target_word = \"замок\"\n",
    "context = \"Замок Нойшванштайн буквально романтический замок баварского короля Людвига II около городка Фюссен и замка Хоэншвангау в юго-западной Баварии, недалеко от австрийской границы. Одно из самых популярных среди туристов мест на юге Германии.\"\n",
    "# ignore_case = True\n",
    "lang = \"ru\" # to filter out stopwords\n",
    "\n",
    "# Load models (takes long time)\n",
    "# wsd_model = WSD(\"../model/wsi/cc.ru.300.vec.gz.top50.wsi-inventory.tsv\", language=\"ru\", verbose=True)\n",
    "\n",
    "# Play with the model (is quick)\n",
    "for sense, score in wsd_model.disambiguate(context, target_word):\n",
    "    print(\"*\\t\", score, sense.keyword, \", \".join(sense.cluster))\n",
    "\n",
    "\n",
    "# you can download the WSI evaluation dataset with 'git clone https://github.com/nlpub/russe-wsi-kit.git'\n",
    "wikiwiki_fpath = \"../../russe-wsi-kit/data/main/wiki-wiki/train.csv\"\n",
    "activedict_fpath = \"../../russe-wsi-kit/data/main/active-dict/test.csv\"\n",
    "btsrnc_fpath = \"../../russe-wsi-kit/data/main/bts-rnc/test.csv\"\n",
    "\n",
    "def evaluate(dataset_fpath):\n",
    "    output_fpath = dataset_fpath + \".pred.csv\"\n",
    "\n",
    "    df = read_csv(dataset_fpath, sep=\"\\t\", encoding=\"utf-8\")\n",
    "\n",
    "    for i, row in df.iterrows():\n",
    "        sense_id, _ = wsd_model.disambiguate(row.context, row.word)\n",
    "        df.loc[i, \"predict_sense_id\"] = sense_id\n",
    "\n",
    "    df.to_csv(output_fpath, sep=\"\\t\", encoding=\"utf-8\")\n",
    "    print(\"Output:\", output_fpath)\n",
    "    \n",
    "    return output_fpath\n",
    "\n",
    "evaluate(wikiwiki_fpath)\n",
    "evaluate(btsrnc_fpath)\n",
    "evaluate(activedict_fpath)"
   ]
  },
  {
   "cell_type": "code",
   "execution_count": null,
   "metadata": {
    "collapsed": true
   },
   "outputs": [],
   "source": []
  },
  {
   "cell_type": "code",
   "execution_count": null,
   "metadata": {
    "collapsed": true
   },
   "outputs": [],
   "source": []
  },
  {
   "cell_type": "code",
   "execution_count": null,
   "metadata": {},
   "outputs": [],
   "source": []
  },
  {
   "cell_type": "code",
   "execution_count": null,
   "metadata": {
    "collapsed": true
   },
   "outputs": [],
   "source": []
  },
  {
   "cell_type": "code",
   "execution_count": null,
   "metadata": {},
   "outputs": [],
   "source": []
  },
  {
   "cell_type": "code",
   "execution_count": null,
   "metadata": {
    "collapsed": true
   },
   "outputs": [],
   "source": []
  },
  {
   "cell_type": "code",
   "execution_count": null,
   "metadata": {
    "collapsed": true,
    "scrolled": true
   },
   "outputs": [],
   "source": []
  },
  {
   "cell_type": "code",
   "execution_count": null,
   "metadata": {
    "collapsed": true
   },
   "outputs": [],
   "source": []
  },
  {
   "cell_type": "code",
   "execution_count": null,
   "metadata": {
    "collapsed": true
   },
   "outputs": [],
   "source": []
  },
  {
   "cell_type": "code",
   "execution_count": null,
   "metadata": {
    "collapsed": true
   },
   "outputs": [],
   "source": [
    "# implement the wsi by looking at the inventory file \n",
    "\n",
    "# for methon in keyword or mean\n",
    "\n",
    "for nns in [50, 100, 200]:\n",
    "    inventory_fpath = \"/home/panchenko/sensegram/model/cc.ru.300.vec.gz.top{}.inventory.tsv\".format(nns)\n",
    "    print(inventory_fpath)\n",
    "    \n",
    "    # load the inventory\n",
    "    \n",
    "    # load the evaluation dataset\n",
    "    \n",
    "    # for each context in the evaluation dataset\n",
    "        # find the most suitale context"
   ]
  },
  {
   "cell_type": "code",
   "execution_count": null,
   "metadata": {
    "collapsed": true
   },
   "outputs": [],
   "source": []
  },
  {
   "cell_type": "code",
   "execution_count": null,
   "metadata": {
    "collapsed": true
   },
   "outputs": [],
   "source": []
  },
  {
   "cell_type": "code",
   "execution_count": null,
   "metadata": {
    "collapsed": true
   },
   "outputs": [],
   "source": []
  },
  {
   "cell_type": "code",
   "execution_count": null,
   "metadata": {
    "collapsed": true
   },
   "outputs": [],
   "source": []
  }
 ],
 "metadata": {
  "kernelspec": {
   "display_name": "Python 3",
   "language": "python",
   "name": "python3"
  },
  "language_info": {
   "codemirror_mode": {
    "name": "ipython",
    "version": 3
   },
   "file_extension": ".py",
   "mimetype": "text/x-python",
   "name": "python",
   "nbconvert_exporter": "python",
   "pygments_lexer": "ipython3",
   "version": "3.6.3"
  }
 },
 "nbformat": 4,
 "nbformat_minor": 2
}

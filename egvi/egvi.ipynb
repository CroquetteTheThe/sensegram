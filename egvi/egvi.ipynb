{
 "cells": [
  {
   "cell_type": "code",
   "execution_count": null,
   "metadata": {
    "collapsed": true
   },
   "outputs": [],
   "source": [
    "%matplotlib inline\n",
    "%load_ext autoreload\n",
    "%autoreload 2"
   ]
  },
  {
   "cell_type": "code",
   "execution_count": null,
   "metadata": {
    "collapsed": true
   },
   "outputs": [],
   "source": [
    "%%javascript\n",
    "IPython.OutputArea.prototype._should_scroll = function(lines) {\n",
    "    return false;\n",
    "}"
   ]
  },
  {
   "cell_type": "code",
   "execution_count": null,
   "metadata": {},
   "outputs": [],
   "source": [
    "from gensim.models import KeyedVectors\n",
    "\n",
    "kv = KeyedVectors.load(\"cc.ru.300.vec.gz.pkl\")"
   ]
  },
  {
   "cell_type": "code",
   "execution_count": null,
   "metadata": {
    "collapsed": true
   },
   "outputs": [],
   "source": []
  },
  {
   "cell_type": "code",
   "execution_count": 16,
   "metadata": {},
   "outputs": [
    {
     "data": {
      "text/plain": [
       "array([ -1.05460443e-01,   7.54858255e-02,  -1.03577226e-02,\n",
       "         2.26771347e-02,   5.46919145e-02,  -2.35402797e-04,\n",
       "        -8.31756461e-03,  -1.07892945e-01,  -9.98107865e-02,\n",
       "        -2.87191402e-02,  -1.20840091e-02,   7.21901888e-03,\n",
       "        -7.37595372e-03,   4.65312861e-02,  -5.66536039e-02,\n",
       "        -5.53196557e-02,  -2.85622049e-02,   1.93814971e-02,\n",
       "         4.98269238e-02,   3.49180810e-02,  -1.89891569e-02,\n",
       "         3.40549350e-02,   7.86245242e-02,  -8.08216259e-03,\n",
       "         5.32010309e-02,  -6.26956075e-02,   8.00369456e-02,\n",
       "        -3.65658998e-02,   6.05769865e-02,   5.41426390e-02,\n",
       "         1.00752391e-01,   2.91114766e-02,  -8.65497515e-02,\n",
       "        -4.29217741e-02,  -5.40641695e-02,  -1.88322235e-02,\n",
       "         6.41080216e-02,  -1.00516982e-01,   1.52227134e-02,\n",
       "         3.01315580e-02,   2.74636578e-02,  -6.49711713e-02,\n",
       "        -1.30334675e-01,  -5.00623249e-02,  -3.67228314e-02,\n",
       "         4.91207168e-02,   3.11516356e-02,   2.85622049e-02,\n",
       "        -5.93999699e-02,   2.35402794e-03,   3.76644474e-03,\n",
       "         2.87976060e-02,  -3.24855857e-02,  -9.92614999e-02,\n",
       "         4.66882214e-02,  -1.43595701e-02,  -2.61297096e-02,\n",
       "         2.71497890e-02,  -4.99838553e-02,   9.21209529e-02,\n",
       "         2.51096301e-03,  -2.76990626e-02,  -4.39418554e-02,\n",
       "         8.55296757e-03,  -4.60604765e-02,  -3.73505764e-02,\n",
       "        -3.53104156e-03,  -4.39418554e-02,  -1.82829499e-02,\n",
       "        -4.23725024e-02,  -1.10168509e-01,  -8.96099955e-02,\n",
       "         4.56681401e-02,  -2.18139905e-02,  -5.70459403e-02,\n",
       "        -2.09508464e-02,   3.27994525e-02,   3.17793749e-02,\n",
       "         4.15878231e-03,  -9.24348235e-02,  -1.41241669e-03,\n",
       "         8.08216259e-03,   1.08285276e-02,  -3.24071161e-02,\n",
       "         3.12301014e-02,  -2.76990626e-02,  -5.09254709e-02,\n",
       "        -3.28779221e-02,   1.79376915e-01,   5.49273193e-03,\n",
       "        -3.21717141e-03,   2.67574489e-02,  -1.58504527e-02,\n",
       "        -1.03498757e-01,   6.59127766e-03,  -2.98961531e-02,\n",
       "         9.85552967e-02,   2.73851901e-02,  -1.88322235e-02,\n",
       "        -6.08123876e-02,   3.33487280e-02,  -2.60512400e-02,\n",
       "         5.05331345e-02,   6.69328570e-02,   1.56150507e-02,\n",
       "        -7.64274374e-02,   1.19820021e-01,   6.84237406e-02,\n",
       "        -8.91391858e-02,  -3.99400070e-02,  -4.45695929e-02,\n",
       "        -6.96007535e-02,   8.31756461e-03,   4.79437001e-02,\n",
       "         8.00369494e-03,   1.32610230e-02,  -3.84491198e-02,\n",
       "        -7.29748681e-02,  -7.45442137e-03,  -4.95915189e-02,\n",
       "        -4.66097519e-02,  -2.05585100e-02,  -5.83798923e-02,\n",
       "         7.57212266e-02,  -1.11345522e-01,  -5.88506982e-02,\n",
       "         8.55296757e-03,   2.78559960e-02,   7.18763173e-02,\n",
       "         3.70367058e-02,  -5.06900661e-02,  -9.25132930e-02,\n",
       "         1.03812627e-01,   1.22330979e-01,   2.31479406e-02,\n",
       "        -5.02977259e-02,  -3.92337982e-03,  -4.08031512e-03,\n",
       "         5.13178036e-02,   4.83360365e-02,  -3.68797686e-03,\n",
       "         1.83614157e-02,   1.04361903e-02,   1.49088427e-02,\n",
       "        -9.50242579e-02,  -3.51534821e-02,  -1.89891569e-02,\n",
       "        -2.69928537e-02,  -7.21901888e-03,   3.83706540e-02,\n",
       "         4.96699847e-02,   5.43780439e-02,  -9.29841027e-02,\n",
       "        -2.19709277e-02,   9.41611174e-03,  -4.31571761e-03,\n",
       "        -1.87537558e-02,   3.96261364e-02,   2.61297096e-02,\n",
       "         2.05585100e-02,  -7.47011527e-02,  -2.12647188e-02,\n",
       "        -5.82229532e-02,   1.51442466e-02,  -9.33764409e-03,\n",
       "         7.90168643e-02,  -1.98523011e-02,   3.09162326e-02,\n",
       "        -2.17355229e-02,   5.84583580e-02,   2.39326172e-02,\n",
       "        -6.19893987e-03,   1.10639306e-02,  -9.96538438e-03,\n",
       "        -1.72628704e-02,   1.63997263e-02,  -4.04108129e-02,\n",
       "        -6.70113266e-02,   2.52665672e-02,   4.67666872e-02,\n",
       "         7.99584761e-02,   2.57530659e-01,   3.82921845e-02,\n",
       "         8.28617811e-02,   3.10731679e-02,  -5.32010309e-02,\n",
       "        -9.51027274e-02,  -2.04800423e-02,  -5.02192602e-03,\n",
       "         2.74636596e-03,   3.79783139e-02,  -6.27740771e-02,\n",
       "        -2.56589018e-02,  -3.30348574e-02,  -2.25201994e-02,\n",
       "        -8.01938847e-02,   5.31225614e-02,  -5.97923063e-02,\n",
       "         8.20771009e-02,   2.11862521e-03,   1.46734398e-02,\n",
       "         2.69928537e-02,  -5.19455485e-02,  -1.51050121e-01,\n",
       "         2.34618112e-02,   2.36972142e-02,   3.50750163e-02,\n",
       "         4.74728942e-02,  -1.35748945e-02,  -6.74821343e-03,\n",
       "         4.37064506e-02,  -9.26702321e-02,   9.96538475e-02,\n",
       "        -1.58504546e-01,   6.94438219e-02,   1.63997263e-02,\n",
       "         4.55112047e-02,   4.94345836e-03,  -7.72121102e-02,\n",
       "        -1.38887642e-02,   2.77775284e-02,   9.87907052e-02,\n",
       "        -5.21809496e-02,   6.15970641e-02,   3.86845246e-02,\n",
       "         3.03669591e-02,  -4.00969423e-02,  -5.96353710e-02,\n",
       "         5.25732897e-02,  -2.80913971e-02,  -2.58943066e-03,\n",
       "         4.52758037e-02,  -4.66882214e-02,  -8.39603320e-03,\n",
       "        -4.70805541e-02,  -8.78837053e-03,   4.11170200e-02,\n",
       "        -2.88760755e-02,   3.53104156e-03,  -2.18139905e-02,\n",
       "         7.61135668e-03,   1.45165054e-02,   6.27740771e-02,\n",
       "         2.64435802e-02,  -2.58158408e-02,  -4.70805587e-03,\n",
       "        -9.80844907e-03,   1.94599647e-02,  -8.37249234e-02,\n",
       "        -6.38726205e-02,   1.62741780e-01,   6.25386760e-02,\n",
       "        -2.42464859e-02,   9.33764428e-02,   2.94253491e-02,\n",
       "         8.16062987e-02,  -1.66351292e-02,   1.15347365e-02,\n",
       "         1.71844028e-02,   3.06808278e-02,   3.96261364e-02,\n",
       "        -1.67135969e-02,   9.72998235e-03,  -7.01500326e-02,\n",
       "        -3.77429128e-02,  -4.44911234e-02,  -8.16063024e-03,\n",
       "        -6.25386760e-02,  -7.90168643e-02,   3.02884933e-02,\n",
       "        -1.85968205e-02,   8.36464539e-02,   1.27980649e-01,\n",
       "         3.24071161e-02,   5.74382804e-02,  -8.26263800e-02,\n",
       "        -8.10570270e-02,  -1.54424220e-01,  -5.03761955e-02,\n",
       "        -9.41611186e-04,  -1.07029796e-01,   1.05931256e-02,\n",
       "        -3.35056633e-02,  -1.48303751e-02,  -8.76483023e-02,\n",
       "        -2.27556024e-02,  -9.25917644e-03,   1.42889485e-01,\n",
       "        -1.54345766e-01,   5.32794967e-02,  -3.21717151e-02,\n",
       "        -5.07685319e-02,  -2.35402770e-02,   6.11262545e-02,\n",
       "         1.45949731e-02,  -7.54073635e-02,  -1.16916718e-02,\n",
       "         3.40549350e-02,  -5.34364320e-02,  -7.79967904e-02], dtype=float32)"
      ]
     },
     "execution_count": 16,
     "metadata": {},
     "output_type": "execute_result"
    }
   ],
   "source": [
    "v1 = wsd._wv[\"Замка\"]\n",
    "v2 = wsd._wv[\"замка\"]\n",
    "v2"
   ]
  },
  {
   "cell_type": "code",
   "execution_count": null,
   "metadata": {
    "collapsed": true
   },
   "outputs": [],
   "source": []
  },
  {
   "cell_type": "code",
   "execution_count": 7,
   "metadata": {},
   "outputs": [
    {
     "name": "stdout",
     "output_type": "stream",
     "text": [
      "False\n"
     ]
    }
   ],
   "source": [
    "target_word = \"abcd\"\n",
    "context_word = \"..abcd\"\n",
    "is_target_word = context_word.startswith(target_word) and len(context_word) - len(target_word) <= 1\n",
    "print(is_target_word)"
   ]
  },
  {
   "cell_type": "code",
   "execution_count": 1,
   "metadata": {},
   "outputs": [
    {
     "ename": "TypeError",
     "evalue": "Cannot cast array data from dtype('float32') to dtype('<U32') according to the rule 'safe'",
     "output_type": "error",
     "traceback": [
      "\u001b[0;31m---------------------------------------------------------------------------\u001b[0m",
      "\u001b[0;31mTypeError\u001b[0m                                 Traceback (most recent call last)",
      "\u001b[0;32m<ipython-input-1-5e6460252392>\u001b[0m in \u001b[0;36m<module>\u001b[0;34m()\u001b[0m\n\u001b[1;32m      5\u001b[0m \u001b[0mcontext\u001b[0m \u001b[0;34m=\u001b[0m \u001b[0;34m\"Замок Нойшванштайн буквально романтический замок баварского короля Людвига II около городка Фюссен и замка Хоэншвангау в юго-западной Баварии, недалеко от австрийской границы. Одно из самых популярных среди туристов мест на юге Германии.\"\u001b[0m\u001b[0;34m\u001b[0m\u001b[0m\n\u001b[1;32m      6\u001b[0m \u001b[0;34m\u001b[0m\u001b[0m\n\u001b[0;32m----> 7\u001b[0;31m \u001b[0mwsd\u001b[0m\u001b[0;34m.\u001b[0m\u001b[0mdisambiguate\u001b[0m\u001b[0;34m(\u001b[0m\u001b[0mtarget_word\u001b[0m\u001b[0;34m,\u001b[0m \u001b[0mcontext\u001b[0m\u001b[0;34m)\u001b[0m\u001b[0;34m\u001b[0m\u001b[0m\n\u001b[0m",
      "\u001b[0;32m~/work/jnt/sensegram/egvi/disambiguator.py\u001b[0m in \u001b[0;36mdisambiguate\u001b[0;34m(self, target_word, context)\u001b[0m\n\u001b[1;32m     85\u001b[0m             \u001b[0mtokens\u001b[0m \u001b[0;34m=\u001b[0m \u001b[0mcontext\u001b[0m\u001b[0;34m.\u001b[0m\u001b[0msplit\u001b[0m\u001b[0;34m(\u001b[0m\u001b[0;34m\" \"\u001b[0m\u001b[0;34m)\u001b[0m\u001b[0;34m\u001b[0m\u001b[0m\n\u001b[1;32m     86\u001b[0m \u001b[0;34m\u001b[0m\u001b[0m\n\u001b[0;32m---> 87\u001b[0;31m         \u001b[0;32mreturn\u001b[0m \u001b[0mself\u001b[0m\u001b[0;34m.\u001b[0m\u001b[0mdisambiguate_tokenized\u001b[0m\u001b[0;34m(\u001b[0m\u001b[0mtarget_word\u001b[0m\u001b[0;34m,\u001b[0m \u001b[0mtokens\u001b[0m\u001b[0;34m)\u001b[0m\u001b[0;34m\u001b[0m\u001b[0m\n\u001b[0m\u001b[1;32m     88\u001b[0m \u001b[0;34m\u001b[0m\u001b[0m\n\u001b[1;32m     89\u001b[0m     \u001b[0;32mdef\u001b[0m \u001b[0mdisambiguate_tokenized\u001b[0m\u001b[0;34m(\u001b[0m\u001b[0mself\u001b[0m\u001b[0;34m,\u001b[0m \u001b[0mtarget_word\u001b[0m\u001b[0;34m,\u001b[0m \u001b[0mtokens\u001b[0m\u001b[0;34m,\u001b[0m \u001b[0mmost_significant_num\u001b[0m\u001b[0;34m=\u001b[0m\u001b[0;36m3\u001b[0m\u001b[0;34m)\u001b[0m\u001b[0;34m:\u001b[0m\u001b[0;34m\u001b[0m\u001b[0m\n",
      "\u001b[0;32m~/work/jnt/sensegram/egvi/disambiguator.py\u001b[0m in \u001b[0;36mdisambiguate_tokenized\u001b[0;34m(self, target_word, tokens, most_significant_num)\u001b[0m\n\u001b[1;32m    126\u001b[0m             \u001b[0mscores\u001b[0m \u001b[0;34m=\u001b[0m \u001b[0;34m[\u001b[0m\u001b[0;34m]\u001b[0m\u001b[0;34m\u001b[0m\u001b[0m\n\u001b[1;32m    127\u001b[0m             \u001b[0;32mfor\u001b[0m \u001b[0msense_vector\u001b[0m \u001b[0;32min\u001b[0m \u001b[0msense_vectors\u001b[0m\u001b[0;34m:\u001b[0m\u001b[0;34m\u001b[0m\u001b[0m\n\u001b[0;32m--> 128\u001b[0;31m                 \u001b[0mscores\u001b[0m\u001b[0;34m.\u001b[0m\u001b[0mappend\u001b[0m\u001b[0;34m(\u001b[0m\u001b[0mcontext_vectors\u001b[0m\u001b[0;34m[\u001b[0m\u001b[0mcontext_word\u001b[0m\u001b[0;34m]\u001b[0m\u001b[0;34m.\u001b[0m\u001b[0mdot\u001b[0m\u001b[0;34m(\u001b[0m\u001b[0msense_vector\u001b[0m\u001b[0;34m)\u001b[0m\u001b[0;34m)\u001b[0m\u001b[0;34m\u001b[0m\u001b[0m\n\u001b[0m\u001b[1;32m    129\u001b[0m             \u001b[0mcontext_word_scores\u001b[0m\u001b[0;34m[\u001b[0m\u001b[0mcontext_word\u001b[0m\u001b[0;34m]\u001b[0m \u001b[0;34m=\u001b[0m \u001b[0mabs\u001b[0m\u001b[0;34m(\u001b[0m\u001b[0mmax\u001b[0m\u001b[0;34m(\u001b[0m\u001b[0mscores\u001b[0m\u001b[0;34m)\u001b[0m \u001b[0;34m-\u001b[0m \u001b[0mmin\u001b[0m\u001b[0;34m(\u001b[0m\u001b[0mscores\u001b[0m\u001b[0;34m)\u001b[0m\u001b[0;34m)\u001b[0m\u001b[0;34m\u001b[0m\u001b[0m\n\u001b[1;32m    130\u001b[0m \u001b[0;34m\u001b[0m\u001b[0m\n",
      "\u001b[0;31mTypeError\u001b[0m: Cannot cast array data from dtype('float32') to dtype('<U32') according to the rule 'safe'"
     ]
    }
   ],
   "source": [
    "from disambiguator import WSD\n",
    "wsd = WSD(\"../model/wsi/cc.ru.300.vec.gz.top50.wsi-inventory.tsv\", language=\"ru\", verbose=True)\n",
    "\n",
    "target_word = \"замок\"\n",
    "context = \"Замок Нойшванштайн буквально романтический замок баварского короля Людвига II около городка Фюссен и замка Хоэншвангау в юго-западной Баварии, недалеко от австрийской границы. Одно из самых популярных среди туристов мест на юге Германии.\"\n",
    "\n",
    "wsd.disambiguate(target_word, context)"
   ]
  },
  {
   "cell_type": "code",
   "execution_count": null,
   "metadata": {},
   "outputs": [],
   "source": [
    "from collections import namedtuple\n",
    "\n",
    "SenseBase = namedtuple('Sense', 'keyword cluster')\n",
    "\n",
    "class Sense(SenseBase): # this is needed as list is an unhashable type\n",
    "    def get_hash(self):\n",
    "        return hash(self.keyword + \"\".join(self.cluster))\n",
    "\n",
    "    def __hash__(self):\n",
    "        return self.get_hash()\n",
    "\n",
    "    def __eq__(self, other):\n",
    "        return self.get_hash() == other.get_hash()\n",
    "    \n",
    "sb = SenseBase(\"af\",[1,2,3])\n",
    "s = Sense(\"lkasdjf\", [1,2])"
   ]
  },
  {
   "cell_type": "code",
   "execution_count": null,
   "metadata": {
    "collapsed": true,
    "scrolled": true
   },
   "outputs": [],
   "source": []
  },
  {
   "cell_type": "code",
   "execution_count": null,
   "metadata": {
    "collapsed": true
   },
   "outputs": [],
   "source": []
  },
  {
   "cell_type": "code",
   "execution_count": null,
   "metadata": {
    "collapsed": true
   },
   "outputs": [],
   "source": []
  },
  {
   "cell_type": "code",
   "execution_count": null,
   "metadata": {
    "collapsed": true
   },
   "outputs": [],
   "source": [
    "# implement the wsi by looking at the inventory file \n",
    "\n",
    "# for methon in keyword or mean\n",
    "\n",
    "for nns in [50, 100, 200]:\n",
    "    inventory_fpath = \"/home/panchenko/sensegram/model/cc.ru.300.vec.gz.top{}.inventory.tsv\".format(nns)\n",
    "    print(inventory_fpath)\n",
    "    \n",
    "    # load the inventory\n",
    "    \n",
    "    # load the evaluation dataset\n",
    "    \n",
    "    # for each context in the evaluation dataset\n",
    "        # find the most suitale context"
   ]
  },
  {
   "cell_type": "code",
   "execution_count": null,
   "metadata": {},
   "outputs": [],
   "source": []
  },
  {
   "cell_type": "code",
   "execution_count": null,
   "metadata": {
    "collapsed": true
   },
   "outputs": [],
   "source": []
  },
  {
   "cell_type": "code",
   "execution_count": null,
   "metadata": {
    "collapsed": true
   },
   "outputs": [],
   "source": []
  },
  {
   "cell_type": "code",
   "execution_count": null,
   "metadata": {
    "collapsed": true
   },
   "outputs": [],
   "source": []
  }
 ],
 "metadata": {
  "kernelspec": {
   "display_name": "Python 3",
   "language": "python",
   "name": "python3"
  },
  "language_info": {
   "codemirror_mode": {
    "name": "ipython",
    "version": 3
   },
   "file_extension": ".py",
   "mimetype": "text/x-python",
   "name": "python",
   "nbconvert_exporter": "python",
   "pygments_lexer": "ipython3",
   "version": "3.6.3"
  }
 },
 "nbformat": 4,
 "nbformat_minor": 2
}

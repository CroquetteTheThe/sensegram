{
 "cells": [
  {
   "cell_type": "code",
   "execution_count": null,
   "metadata": {
    "collapsed": true
   },
   "outputs": [],
   "source": [
    "%matplotlib inline\n",
    "%load_ext autoreload\n",
    "%autoreload 2"
   ]
  },
  {
   "cell_type": "code",
   "execution_count": null,
   "metadata": {
    "collapsed": true
   },
   "outputs": [],
   "source": [
    "%%javascript\n",
    "IPython.OutputArea.prototype._should_scroll = function(lines) {\n",
    "    return false;\n",
    "}"
   ]
  },
  {
   "cell_type": "code",
   "execution_count": null,
   "metadata": {},
   "outputs": [],
   "source": [
    "from disambiguator import WSD\n",
    "from pandas import read_csv \n",
    "\n",
    "\n",
    "def evaluate(dataset_fpath, max_context_words):\n",
    "    \"\"\" Evaluates the model using the global variable wsd_model \"\"\"\n",
    "    \n",
    "    output_fpath = dataset_fpath + \".filter{}.pred.csv\".format(max_context_words)\n",
    "    df = read_csv(dataset_fpath, sep=\"\\t\", encoding=\"utf-8\")\n",
    "\n",
    "    for i, row in df.iterrows():\n",
    "        sense_id, _ = wsd_model.get_best_sense_id(row.context, row.word, max_context_words)\n",
    "        df.loc[i, \"predict_sense_id\"] = sense_id\n",
    "\n",
    "    df.to_csv(output_fpath, sep=\"\\t\", encoding=\"utf-8\")\n",
    "    print(\"Output:\", output_fpath)\n",
    "    \n",
    "    return output_fpath\n",
    "\n",
    "# Parameters\n",
    "context_window_size = 20 # this parameters can be also changed during experiments \n",
    "target_word = \"замок\"\n",
    "context = \"Замок Нойшванштайн буквально романтический замок баварского короля Людвига II около городка Фюссен и замка Хоэншвангау в юго-западной Баварии, недалеко от австрийской границы. Одно из самых популярных среди туристов мест на юге Германии.\"\n",
    "# ignore_case = True\n",
    "lang = \"ru\" # to filter out stopwords\n",
    "skip_unknown_words = True\n",
    "# you can download the WSI evaluation dataset with 'git clone https://github.com/nlpub/russe-wsi-kit.git'\n",
    "wikiwiki_fpath = \"../../russe-wsi-kit/data/main/wiki-wiki/train.csv\"\n",
    "activedict_fpath = \"../../russe-wsi-kit/data/main/active-dict/test.csv\"\n",
    "btsrnc_fpath = \"../../russe-wsi-kit/data/main/bts-rnc/test.csv\"\n",
    "inventory_fpath = \"../model/wsi/cc.ru.300.vec.gz.top50.wsi-inventory.tsv\" \n",
    "\n",
    "# Load the model\n",
    "try:\n",
    "    wsd_model\n",
    "except NameError:\n",
    "    wsd_model = WSD(inventory_fpath, language=lang, verbose=True, skip_unknown_words=skip_unknown_words)\n",
    "\n",
    "# Sanity check of the model\n",
    "for sense, score in wsd_model.disambiguate(context, target_word):\n",
    "    print(\"*\\t\", score, sense.keyword, \", \".join(sense.cluster))\n",
    "\n",
    "# Evaluate\n",
    "for max_context_words in [1, 2, 5, 10, 3]:\n",
    "    evaluate(wikiwiki_fpath, max_context_words)\n",
    "    # evaluate(btsrnc_fpath)\n",
    "    # evaluate(activedict_fpath)"
   ]
  },
  {
   "cell_type": "code",
   "execution_count": null,
   "metadata": {},
   "outputs": [],
   "source": [
    "wsd_model.disambiguate_tokenized?"
   ]
  },
  {
   "cell_type": "code",
   "execution_count": null,
   "metadata": {},
   "outputs": [],
   "source": [
    "a = [1, 2, 3]\n",
    "b = [4, 5, 6]\n",
    "a += b\n",
    "a"
   ]
  },
  {
   "cell_type": "code",
   "execution_count": null,
   "metadata": {},
   "outputs": [],
   "source": []
  },
  {
   "cell_type": "code",
   "execution_count": null,
   "metadata": {
    "collapsed": true
   },
   "outputs": [],
   "source": []
  },
  {
   "cell_type": "code",
   "execution_count": null,
   "metadata": {},
   "outputs": [],
   "source": []
  },
  {
   "cell_type": "code",
   "execution_count": null,
   "metadata": {
    "collapsed": true
   },
   "outputs": [],
   "source": []
  },
  {
   "cell_type": "code",
   "execution_count": null,
   "metadata": {
    "collapsed": true,
    "scrolled": true
   },
   "outputs": [],
   "source": []
  },
  {
   "cell_type": "code",
   "execution_count": null,
   "metadata": {},
   "outputs": [],
   "source": [
    "from gensim.models.fasttext import FastText as FT_gensim\n",
    "FT_gensim.load(\"cc.ru.300.vec.gz\")"
   ]
  },
  {
   "cell_type": "code",
   "execution_count": null,
   "metadata": {
    "collapsed": true
   },
   "outputs": [],
   "source": []
  },
  {
   "cell_type": "code",
   "execution_count": null,
   "metadata": {
    "collapsed": true
   },
   "outputs": [],
   "source": [
    "# implement the wsi by looking at the inventory file \n",
    "\n",
    "# for methon in keyword or mean\n",
    "\n",
    "for nns in [50, 100, 200]:\n",
    "    inventory_fpath = \"/home/panchenko/sensegram/model/cc.ru.300.vec.gz.top{}.inventory.tsv\".format(nns)\n",
    "    print(inventory_fpath)\n",
    "    \n",
    "    # load the inventory\n",
    "    \n",
    "    # load the evaluation dataset\n",
    "    \n",
    "    # for each context in the evaluation dataset\n",
    "        # find the most suitale context"
   ]
  },
  {
   "cell_type": "code",
   "execution_count": null,
   "metadata": {
    "collapsed": true
   },
   "outputs": [],
   "source": []
  },
  {
   "cell_type": "code",
   "execution_count": null,
   "metadata": {
    "collapsed": true
   },
   "outputs": [],
   "source": []
  },
  {
   "cell_type": "code",
   "execution_count": null,
   "metadata": {
    "collapsed": true
   },
   "outputs": [],
   "source": []
  },
  {
   "cell_type": "code",
   "execution_count": null,
   "metadata": {
    "collapsed": true
   },
   "outputs": [],
   "source": []
  }
 ],
 "metadata": {
  "kernelspec": {
   "display_name": "Python 3",
   "language": "python",
   "name": "python3"
  },
  "language_info": {
   "codemirror_mode": {
    "name": "ipython",
    "version": 3
   },
   "file_extension": ".py",
   "mimetype": "text/x-python",
   "name": "python",
   "nbconvert_exporter": "python",
   "pygments_lexer": "ipython3",
   "version": "3.6.3"
  }
 },
 "nbformat": 4,
 "nbformat_minor": 2
}

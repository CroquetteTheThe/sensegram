{
 "cells": [
  {
   "cell_type": "code",
   "execution_count": null,
   "metadata": {
    "collapsed": true
   },
   "outputs": [],
   "source": [
    "%matplotlib inline\n",
    "%load_ext autoreload\n",
    "%autoreload 2"
   ]
  },
  {
   "cell_type": "code",
   "execution_count": null,
   "metadata": {
    "collapsed": true
   },
   "outputs": [],
   "source": [
    "%%javascript\n",
    "IPython.OutputArea.prototype._should_scroll = function(lines) {\n",
    "    return false;\n",
    "}"
   ]
  },
  {
   "cell_type": "code",
   "execution_count": 1,
   "metadata": {},
   "outputs": [
    {
     "name": "stdout",
     "output_type": "stream",
     "text": [
      "Warning: context word 'Нойшванштайн' is not in the word embedding model. Skipping the word.\n",
      "Warning: context word 'буквально' is not in the word embedding model. Skipping the word.\n",
      "Warning: context word 'романтический' is not in the word embedding model. Skipping the word.\n",
      "Warning: context word 'баварского' is not in the word embedding model. Skipping the word.\n",
      "Warning: context word 'короля' is not in the word embedding model. Skipping the word.\n",
      "Warning: context word 'Людвига' is not in the word embedding model. Skipping the word.\n",
      "Warning: context word 'II' is not in the word embedding model. Skipping the word.\n",
      "Warning: context word 'около' is not in the word embedding model. Skipping the word.\n",
      "Warning: context word 'городка' is not in the word embedding model. Skipping the word.\n",
      "Warning: context word 'Фюссен' is not in the word embedding model. Skipping the word.\n",
      "Warning: context word 'и' is not in the word embedding model. Skipping the word.\n",
      "Warning: context word 'замка' is not in the word embedding model. Skipping the word.\n",
      "Warning: context word 'Хоэншвангау' is not in the word embedding model. Skipping the word.\n",
      "Warning: context word 'в' is not in the word embedding model. Skipping the word.\n",
      "Warning: context word 'юго-западной' is not in the word embedding model. Skipping the word.\n",
      "Warning: context word 'Баварии' is not in the word embedding model. Skipping the word.\n",
      "Warning: context word ',' is not in the word embedding model. Skipping the word.\n",
      "Warning: context word 'недалеко' is not in the word embedding model. Skipping the word.\n",
      "Warning: context word 'от' is not in the word embedding model. Skipping the word.\n",
      "Warning: context word 'австрийской' is not in the word embedding model. Skipping the word.\n",
      "Warning: context word 'границы' is not in the word embedding model. Skipping the word.\n",
      "Warning: context word '.' is not in the word embedding model. Skipping the word.\n",
      "Warning: context word 'Одно' is not in the word embedding model. Skipping the word.\n",
      "Warning: context word 'из' is not in the word embedding model. Skipping the word.\n",
      "Warning: context word 'самых' is not in the word embedding model. Skipping the word.\n",
      "Warning: context word 'популярных' is not in the word embedding model. Skipping the word.\n",
      "Warning: context word 'среди' is not in the word embedding model. Skipping the word.\n",
      "Warning: context word 'туристов' is not in the word embedding model. Skipping the word.\n",
      "Warning: context word 'мест' is not in the word embedding model. Skipping the word.\n",
      "Warning: context word 'на' is not in the word embedding model. Skipping the word.\n",
      "Warning: context word 'юге' is not in the word embedding model. Skipping the word.\n",
      "Warning: context word 'Германии' is not in the word embedding model. Skipping the word.\n",
      "Warning: context word '.' is not in the word embedding model. Skipping the word.\n",
      "Best context words for 'замок' in sentence : 'Замок Нойшванштайн буквально романтический замок баварского короля Людвига II около городка Фюссен и замка Хоэншвангау в юго-западной Баварии , недалеко от австрийской границы . Одно из самых популярных среди туристов мест на юге Германии .' are:\n"
     ]
    },
    {
     "name": "stderr",
     "output_type": "stream",
     "text": [
      "/Users/panchenko/anaconda3/lib/python3.6/site-packages/numpy/core/fromnumeric.py:2909: RuntimeWarning: Mean of empty slice.\n",
      "  out=out, **kwargs)\n",
      "/Users/panchenko/anaconda3/lib/python3.6/site-packages/numpy/core/_methods.py:80: RuntimeWarning: invalid value encountered in double_scalars\n",
      "  ret = ret.dtype.type(ret / rcount)\n"
     ]
    },
    {
     "ename": "AttributeError",
     "evalue": "'numpy.float64' object has no attribute 'dot'",
     "output_type": "error",
     "traceback": [
      "\u001b[0;31m---------------------------------------------------------------------------\u001b[0m",
      "\u001b[0;31mAttributeError\u001b[0m                            Traceback (most recent call last)",
      "\u001b[0;32m<ipython-input-1-0708f53319c2>\u001b[0m in \u001b[0;36m<module>\u001b[0;34m()\u001b[0m\n\u001b[1;32m     38\u001b[0m \u001b[0;34m\u001b[0m\u001b[0m\n\u001b[1;32m     39\u001b[0m \u001b[0;31m# Sanity check of the model\u001b[0m\u001b[0;34m\u001b[0m\u001b[0;34m\u001b[0m\u001b[0m\n\u001b[0;32m---> 40\u001b[0;31m \u001b[0;32mfor\u001b[0m \u001b[0msense\u001b[0m\u001b[0;34m,\u001b[0m \u001b[0mscore\u001b[0m \u001b[0;32min\u001b[0m \u001b[0mwsd_model\u001b[0m\u001b[0;34m.\u001b[0m\u001b[0mdisambiguate\u001b[0m\u001b[0;34m(\u001b[0m\u001b[0mcontext\u001b[0m\u001b[0;34m,\u001b[0m \u001b[0mtarget_word\u001b[0m\u001b[0;34m)\u001b[0m\u001b[0;34m:\u001b[0m\u001b[0;34m\u001b[0m\u001b[0m\n\u001b[0m\u001b[1;32m     41\u001b[0m     \u001b[0mprint\u001b[0m\u001b[0;34m(\u001b[0m\u001b[0;34m\"*\\t\"\u001b[0m\u001b[0;34m,\u001b[0m \u001b[0mscore\u001b[0m\u001b[0;34m,\u001b[0m \u001b[0msense\u001b[0m\u001b[0;34m.\u001b[0m\u001b[0mkeyword\u001b[0m\u001b[0;34m,\u001b[0m \u001b[0;34m\", \"\u001b[0m\u001b[0;34m.\u001b[0m\u001b[0mjoin\u001b[0m\u001b[0;34m(\u001b[0m\u001b[0msense\u001b[0m\u001b[0;34m.\u001b[0m\u001b[0mcluster\u001b[0m\u001b[0;34m)\u001b[0m\u001b[0;34m)\u001b[0m\u001b[0;34m\u001b[0m\u001b[0m\n\u001b[1;32m     42\u001b[0m \u001b[0;34m\u001b[0m\u001b[0m\n",
      "\u001b[0;32m~/work/jnt/sensegram/egvi/disambiguator.py\u001b[0m in \u001b[0;36mdisambiguate\u001b[0;34m(self, context, target_word, most_significant_num)\u001b[0m\n\u001b[1;32m    103\u001b[0m             \u001b[0mtokens\u001b[0m \u001b[0;34m=\u001b[0m \u001b[0mcontext\u001b[0m\u001b[0;34m.\u001b[0m\u001b[0msplit\u001b[0m\u001b[0;34m(\u001b[0m\u001b[0;34m\" \"\u001b[0m\u001b[0;34m)\u001b[0m\u001b[0;34m\u001b[0m\u001b[0m\n\u001b[1;32m    104\u001b[0m \u001b[0;34m\u001b[0m\u001b[0m\n\u001b[0;32m--> 105\u001b[0;31m         \u001b[0;32mreturn\u001b[0m \u001b[0mself\u001b[0m\u001b[0;34m.\u001b[0m\u001b[0mdisambiguate_tokenized\u001b[0m\u001b[0;34m(\u001b[0m\u001b[0mtokens\u001b[0m\u001b[0;34m,\u001b[0m \u001b[0mtarget_word\u001b[0m\u001b[0;34m,\u001b[0m \u001b[0mmost_significant_num\u001b[0m\u001b[0;34m)\u001b[0m\u001b[0;34m\u001b[0m\u001b[0m\n\u001b[0m\u001b[1;32m    106\u001b[0m \u001b[0;34m\u001b[0m\u001b[0m\n\u001b[1;32m    107\u001b[0m     \u001b[0;32mdef\u001b[0m \u001b[0mdisambiguate_tokenized\u001b[0m\u001b[0;34m(\u001b[0m\u001b[0mself\u001b[0m\u001b[0;34m,\u001b[0m \u001b[0mtokens\u001b[0m\u001b[0;34m,\u001b[0m \u001b[0mtarget_word\u001b[0m\u001b[0;34m,\u001b[0m \u001b[0mmost_significant_num\u001b[0m\u001b[0;34m=\u001b[0m\u001b[0mMOST_SIGNIFICANT_NUM\u001b[0m\u001b[0;34m)\u001b[0m\u001b[0;34m:\u001b[0m\u001b[0;34m\u001b[0m\u001b[0m\n",
      "\u001b[0;32m~/work/jnt/sensegram/egvi/disambiguator.py\u001b[0m in \u001b[0;36mdisambiguate_tokenized\u001b[0;34m(self, tokens, target_word, most_significant_num)\u001b[0m\n\u001b[1;32m    164\u001b[0m \u001b[0;34m\u001b[0m\u001b[0m\n\u001b[1;32m    165\u001b[0m         \u001b[0;31m# pick the sense which is the most similar to the context vector\u001b[0m\u001b[0;34m\u001b[0m\u001b[0;34m\u001b[0m\u001b[0m\n\u001b[0;32m--> 166\u001b[0;31m         \u001b[0msense_scores\u001b[0m \u001b[0;34m=\u001b[0m \u001b[0;34m[\u001b[0m\u001b[0;34m(\u001b[0m\u001b[0msense\u001b[0m\u001b[0;34m,\u001b[0m \u001b[0mcontext_vector\u001b[0m\u001b[0;34m.\u001b[0m\u001b[0mdot\u001b[0m\u001b[0;34m(\u001b[0m\u001b[0msense_vectors\u001b[0m\u001b[0;34m[\u001b[0m\u001b[0msense\u001b[0m\u001b[0;34m]\u001b[0m\u001b[0;34m)\u001b[0m\u001b[0;34m)\u001b[0m \u001b[0;32mfor\u001b[0m \u001b[0msense\u001b[0m \u001b[0;32min\u001b[0m \u001b[0msense_vectors\u001b[0m\u001b[0;34m]\u001b[0m\u001b[0;34m\u001b[0m\u001b[0m\n\u001b[0m\u001b[1;32m    167\u001b[0m         \u001b[0;32mreturn\u001b[0m \u001b[0msorted\u001b[0m\u001b[0;34m(\u001b[0m\u001b[0msense_scores\u001b[0m\u001b[0;34m,\u001b[0m \u001b[0mkey\u001b[0m\u001b[0;34m=\u001b[0m\u001b[0mitemgetter\u001b[0m\u001b[0;34m(\u001b[0m\u001b[0;36m1\u001b[0m\u001b[0;34m)\u001b[0m\u001b[0;34m,\u001b[0m \u001b[0mreverse\u001b[0m\u001b[0;34m=\u001b[0m\u001b[0;32mTrue\u001b[0m\u001b[0;34m)\u001b[0m\u001b[0;34m\u001b[0m\u001b[0m\n",
      "\u001b[0;32m~/work/jnt/sensegram/egvi/disambiguator.py\u001b[0m in \u001b[0;36m<listcomp>\u001b[0;34m(.0)\u001b[0m\n\u001b[1;32m    164\u001b[0m \u001b[0;34m\u001b[0m\u001b[0m\n\u001b[1;32m    165\u001b[0m         \u001b[0;31m# pick the sense which is the most similar to the context vector\u001b[0m\u001b[0;34m\u001b[0m\u001b[0;34m\u001b[0m\u001b[0m\n\u001b[0;32m--> 166\u001b[0;31m         \u001b[0msense_scores\u001b[0m \u001b[0;34m=\u001b[0m \u001b[0;34m[\u001b[0m\u001b[0;34m(\u001b[0m\u001b[0msense\u001b[0m\u001b[0;34m,\u001b[0m \u001b[0mcontext_vector\u001b[0m\u001b[0;34m.\u001b[0m\u001b[0mdot\u001b[0m\u001b[0;34m(\u001b[0m\u001b[0msense_vectors\u001b[0m\u001b[0;34m[\u001b[0m\u001b[0msense\u001b[0m\u001b[0;34m]\u001b[0m\u001b[0;34m)\u001b[0m\u001b[0;34m)\u001b[0m \u001b[0;32mfor\u001b[0m \u001b[0msense\u001b[0m \u001b[0;32min\u001b[0m \u001b[0msense_vectors\u001b[0m\u001b[0;34m]\u001b[0m\u001b[0;34m\u001b[0m\u001b[0m\n\u001b[0m\u001b[1;32m    167\u001b[0m         \u001b[0;32mreturn\u001b[0m \u001b[0msorted\u001b[0m\u001b[0;34m(\u001b[0m\u001b[0msense_scores\u001b[0m\u001b[0;34m,\u001b[0m \u001b[0mkey\u001b[0m\u001b[0;34m=\u001b[0m\u001b[0mitemgetter\u001b[0m\u001b[0;34m(\u001b[0m\u001b[0;36m1\u001b[0m\u001b[0;34m)\u001b[0m\u001b[0;34m,\u001b[0m \u001b[0mreverse\u001b[0m\u001b[0;34m=\u001b[0m\u001b[0;32mTrue\u001b[0m\u001b[0;34m)\u001b[0m\u001b[0;34m\u001b[0m\u001b[0m\n",
      "\u001b[0;31mAttributeError\u001b[0m: 'numpy.float64' object has no attribute 'dot'"
     ]
    }
   ],
   "source": [
    "from disambiguator import WSD\n",
    "from pandas import read_csv \n",
    "\n",
    "\n",
    "def evaluate(dataset_fpath, max_context_words):\n",
    "    \"\"\" Evaluates the model using the global variable wsd_model \"\"\"\n",
    "    \n",
    "    output_fpath = dataset_fpath + \".filter{}.pred.csv\".format(max_context_words)\n",
    "    df = read_csv(dataset_fpath, sep=\"\\t\", encoding=\"utf-8\")\n",
    "\n",
    "    for i, row in df.iterrows():\n",
    "        sense_id, _ = wsd_model.get_best_sense_id(row.context, row.word, max_context_words)\n",
    "        df.loc[i, \"predict_sense_id\"] = sense_id\n",
    "\n",
    "    df.to_csv(output_fpath, sep=\"\\t\", encoding=\"utf-8\")\n",
    "    print(\"Output:\", output_fpath)\n",
    "    \n",
    "    return output_fpath\n",
    "\n",
    "# Parameters\n",
    "context_window_size = 20 # this parameters can be also changed during experiments \n",
    "target_word = \"замок\"\n",
    "context = \"Замок Нойшванштайн буквально романтический замок баварского короля Людвига II около городка Фюссен и замка Хоэншвангау в юго-западной Баварии, недалеко от австрийской границы. Одно из самых популярных среди туристов мест на юге Германии.\"\n",
    "# ignore_case = True\n",
    "lang = \"ru\" # to filter out stopwords\n",
    "skip_unknown_words = True\n",
    "# you can download the WSI evaluation dataset with 'git clone https://github.com/nlpub/russe-wsi-kit.git'\n",
    "wikiwiki_fpath = \"../../russe-wsi-kit/data/main/wiki-wiki/train.csv\"\n",
    "activedict_fpath = \"../../russe-wsi-kit/data/main/active-dict/test.csv\"\n",
    "btsrnc_fpath = \"../../russe-wsi-kit/data/main/bts-rnc/test.csv\"\n",
    "inventory_fpath = \"../model/wsi/cc.ru.300.vec.gz.top50.wsi-inventory.tsv\" \n",
    "\n",
    "# Load the model\n",
    "try:\n",
    "    wsd_model\n",
    "except NameError:\n",
    "    wsd_model = WSD(inventory_fpath, language=lang, verbose=True, skip_unknown_words=skip_unknown_words)\n",
    "\n",
    "# Sanity check of the model\n",
    "for sense, score in wsd_model.disambiguate(context, target_word):\n",
    "    print(\"*\\t\", score, sense.keyword, \", \".join(sense.cluster))\n",
    "\n",
    "# Evaluate\n",
    "for max_context_words in [1, 2, 5, 10, 3]:\n",
    "    evaluate(wikiwiki_fpath, max_context_words)\n",
    "    # evaluate(btsrnc_fpath)\n",
    "    # evaluate(activedict_fpath)"
   ]
  },
  {
   "cell_type": "code",
   "execution_count": null,
   "metadata": {},
   "outputs": [],
   "source": [
    "wsd_model.disambiguate_tokenized?"
   ]
  },
  {
   "cell_type": "code",
   "execution_count": 8,
   "metadata": {},
   "outputs": [
    {
     "data": {
      "text/plain": [
       "[1, 2, 3, 4, 5, 6]"
      ]
     },
     "execution_count": 8,
     "metadata": {},
     "output_type": "execute_result"
    }
   ],
   "source": [
    "a = [1, 2, 3]\n",
    "b = [4, 5, 6]\n",
    "a += b\n",
    "a"
   ]
  },
  {
   "cell_type": "code",
   "execution_count": null,
   "metadata": {},
   "outputs": [],
   "source": []
  },
  {
   "cell_type": "code",
   "execution_count": null,
   "metadata": {
    "collapsed": true
   },
   "outputs": [],
   "source": []
  },
  {
   "cell_type": "code",
   "execution_count": null,
   "metadata": {},
   "outputs": [],
   "source": []
  },
  {
   "cell_type": "code",
   "execution_count": null,
   "metadata": {
    "collapsed": true
   },
   "outputs": [],
   "source": []
  },
  {
   "cell_type": "code",
   "execution_count": null,
   "metadata": {
    "collapsed": true,
    "scrolled": true
   },
   "outputs": [],
   "source": []
  },
  {
   "cell_type": "code",
   "execution_count": null,
   "metadata": {},
   "outputs": [],
   "source": [
    "from gensim.models.fasttext import FastText as FT_gensim\n",
    "FT_gensim.load(\"cc.ru.300.vec.gz\")"
   ]
  },
  {
   "cell_type": "code",
   "execution_count": null,
   "metadata": {
    "collapsed": true
   },
   "outputs": [],
   "source": []
  },
  {
   "cell_type": "code",
   "execution_count": null,
   "metadata": {
    "collapsed": true
   },
   "outputs": [],
   "source": [
    "# implement the wsi by looking at the inventory file \n",
    "\n",
    "# for methon in keyword or mean\n",
    "\n",
    "for nns in [50, 100, 200]:\n",
    "    inventory_fpath = \"/home/panchenko/sensegram/model/cc.ru.300.vec.gz.top{}.inventory.tsv\".format(nns)\n",
    "    print(inventory_fpath)\n",
    "    \n",
    "    # load the inventory\n",
    "    \n",
    "    # load the evaluation dataset\n",
    "    \n",
    "    # for each context in the evaluation dataset\n",
    "        # find the most suitale context"
   ]
  },
  {
   "cell_type": "code",
   "execution_count": null,
   "metadata": {
    "collapsed": true
   },
   "outputs": [],
   "source": []
  },
  {
   "cell_type": "code",
   "execution_count": null,
   "metadata": {
    "collapsed": true
   },
   "outputs": [],
   "source": []
  },
  {
   "cell_type": "code",
   "execution_count": null,
   "metadata": {
    "collapsed": true
   },
   "outputs": [],
   "source": []
  },
  {
   "cell_type": "code",
   "execution_count": null,
   "metadata": {
    "collapsed": true
   },
   "outputs": [],
   "source": []
  }
 ],
 "metadata": {
  "kernelspec": {
   "display_name": "Python 3",
   "language": "python",
   "name": "python3"
  },
  "language_info": {
   "codemirror_mode": {
    "name": "ipython",
    "version": 3
   },
   "file_extension": ".py",
   "mimetype": "text/x-python",
   "name": "python",
   "nbconvert_exporter": "python",
   "pygments_lexer": "ipython3",
   "version": "3.6.3"
  }
 },
 "nbformat": 4,
 "nbformat_minor": 2
}

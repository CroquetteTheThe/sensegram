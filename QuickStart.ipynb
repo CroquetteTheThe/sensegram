{
 "cells": [
  {
   "cell_type": "markdown",
   "metadata": {},
   "source": [
    "## Loading pre-trained sense vectors \n",
    "\n",
    "To test with word sense embeddings you can use a pretrained model (sense vectors and sense probabilities). These sense         vectors were induced from Wikipedia using word2vec similarities between words in ego-networks. Sense probabilities are       stored in a separate file which is located next to the file with sense vectors. "
   ]
  },
  {
   "cell_type": "code",
   "execution_count": 2,
   "metadata": {
    "collapsed": true
   },
   "outputs": [],
   "source": [
    "import sensegram\n",
    "sense_vectors_fpath = \"model/wikipedia-ru-2018.txt.clusters.minsize5-1000-sum-score-20.vectors.bin\"\n",
    "sv = sensegram.SenseGram.load_word2vec_format(sense_vectors_fpath, binary=False)"
   ]
  },
  {
   "cell_type": "markdown",
   "metadata": {},
   "source": [
    "## Getting the list of senses of a word \n",
    "\n",
    "Probabilities of senses will be loaded automatically if placed in the same folder as sense vectors and named according to the  same scheme as our pretrained files.\n",
    "\n",
    "To examine how many senses were learned for a word call `get_senses` funcion:"
   ]
  },
  {
   "cell_type": "code",
   "execution_count": 25,
   "metadata": {},
   "outputs": [
    {
     "data": {
      "text/plain": [
       "[('ключ#1', 0.33494),\n",
       " ('ключ#2', 0.279518),\n",
       " ('ключ#3', 0.248193),\n",
       " ('ключ#4', 0.125301),\n",
       " ('ключ#5', 0.012048)]"
      ]
     },
     "execution_count": 25,
     "metadata": {},
     "output_type": "execute_result"
    }
   ],
   "source": [
    "word = \"ключ\"\n",
    "sv.get_senses(word)"
   ]
  },
  {
   "cell_type": "markdown",
   "metadata": {},
   "source": [
    "## Sense aware nearest neighbors\n",
    "\n",
    "The function returns a list of sense names with probabilities for each sense. As one can see, our model has learned two senses for the word \"ключ\".\n",
    "\n",
    "To understand which word sense is represented with a sense vector use `most_similar` function:\n"
   ]
  },
  {
   "cell_type": "code",
   "execution_count": 19,
   "metadata": {},
   "outputs": [
    {
     "name": "stdout",
     "output_type": "stream",
     "text": [
      "ключ#1\n",
      "====================\n",
      "Ключ#1 0.991653\n",
      "колодец#2 0.915456\n",
      "ЯМА#2 0.899536\n",
      "Яма#2 0.899536\n",
      "яма#2 0.899536\n",
      "ищущий#2 0.897314\n",
      "Ищущий#2 0.897314\n",
      "Иллюзий#4 0.896384\n",
      "Змеиной#3 0.894822\n",
      "змеиной#4 0.894822\n",
      "\n",
      "\n",
      "ключ#2\n",
      "====================\n",
      "Ключ#2 0.995825\n",
      "дубликат#1 0.942747\n",
      "Дубликат#1 0.942747\n",
      "чемоданчик#1 0.935276\n",
      "брелок#2 0.929783\n",
      "Брелок#2 0.929783\n",
      "Кошелёк#1 0.926213\n",
      "Кулон#1 0.923792\n",
      "кулон#1 0.923792\n",
      "Кейс#2 0.923318\n",
      "\n",
      "\n",
      "ключ#3\n",
      "====================\n",
      "симметричный_ключ#1 0.948021\n",
      "ключевой_поток#1 0.945735\n",
      "зашифрованный_текст#1 0.944024\n",
      "сеансовый_ключ#1 0.944022\n",
      "ПИН_код#1 0.939620\n",
      "пин_код#1 0.939620\n",
      "шифротекст#2 0.938751\n",
      "шифротекст_formula_#1 0.937948\n",
      "Секретный_ключ#1 0.936267\n",
      "секретный_ключ#1 0.936267\n",
      "\n",
      "\n",
      "ключ#4\n",
      "====================\n",
      "Ключ#4 0.952905\n",
      "яр#1 0.952719\n",
      "овраг#1 0.951952\n",
      "Яр#2 0.951806\n",
      "порог#2 0.951373\n",
      "Порог#2 0.951373\n",
      "ЯР#2 0.949762\n",
      "хуторок#2 0.945221\n",
      "Овраг#1 0.940528\n",
      "ерик#1 0.931127\n",
      "\n",
      "\n",
      "ключ#5\n",
      "====================\n",
      "Древу#2 0.919379\n",
      "Эросу#1 0.899062\n",
      "Юпитеру#1 0.893557\n",
      "Содому#1 0.892363\n",
      "Тебатиманкчсатт#2 0.886120\n",
      "веку#1 0.883292\n",
      "Создателю#1 0.883041\n",
      "Веку#1 0.882586\n",
      "возвращающим#1 0.877548\n",
      "создателю#1 0.876894\n",
      "\n",
      "\n"
     ]
    }
   ],
   "source": [
    "word = \"ключ\"\n",
    "for sense_id, prob in sv.get_senses(word):\n",
    "    print(sense_id)\n",
    "    print(\"=\"*20)\n",
    "    for rsense_id, sim in sv.wv.most_similar(sense_id):\n",
    "        print(\"{} {:f}\".format(rsense_id, sim))\n",
    "    print(\"\\n\")"
   ]
  },
  {
   "cell_type": "markdown",
   "metadata": {},
   "source": [
    "## Word sense disambiguation: loading word embeddings\n",
    "\n",
    "To use our word sense disambiguation mechanism you also need word vectors or context vectors, depending on the dismabiguation  strategy. Those word are located in the ``model`` directory and has the extension ``.vectors``.\n",
    "\n",
    "Our WSD mechanism is based on word similarities (`sim`) and requires word vectors to represent context words. In following we provide a disambiguation example using similarity strategy.\n",
    "\n",
    "First, load word vectors using gensim library:\n"
   ]
  },
  {
   "cell_type": "code",
   "execution_count": 24,
   "metadata": {},
   "outputs": [],
   "source": [
    "from gensim.models import KeyedVectors\n",
    "word_vectors_fpath = \"model/wikipedia-ru-2018.txt.vectors\"\n",
    "wv = KeyedVectors.load_word2vec_format(word_vectors_fpath, binary=False, unicode_errors=\"ignore\")"
   ]
  },
  {
   "cell_type": "code",
   "execution_count": 29,
   "metadata": {},
   "outputs": [
    {
     "name": "stdout",
     "output_type": "stream",
     "text": [
      "Disambiguation method: sim\n",
      "Filter context: f = 3\n"
     ]
    }
   ],
   "source": [
    "from wsd import WSD\n",
    "wsd_model = WSD(sv, wv, window=5, method='sim', filter_ctx=3)"
   ]
  },
  {
   "cell_type": "code",
   "execution_count": 38,
   "metadata": {},
   "outputs": [
    {
     "data": {
      "text/plain": [
       "('ключ#3',\n",
       " [-0.092931547260743735,\n",
       "  0.28434546029012309,\n",
       "  0.36909524453328935,\n",
       "  -0.17320387329222187,\n",
       "  -0.011932713897268587])"
      ]
     },
     "execution_count": 38,
     "metadata": {},
     "output_type": "execute_result"
    }
   ],
   "source": [
    "word = \"ключ\"\n",
    "context = \"ключ — информация в криптографии, используемая алгоритмом для преобразования сообщения при шифровании или расшифровании.\"\n",
    "wsd_model.dis_text(context, word, 0, 4)"
   ]
  },
  {
   "cell_type": "code",
   "execution_count": 31,
   "metadata": {},
   "outputs": [
    {
     "data": {
      "text/plain": [
       "('ключ#2',\n",
       " [0.048491791449905092,\n",
       "  0.45415751329647575,\n",
       "  0.28697937282923136,\n",
       "  -0.063768491451374393,\n",
       "  0.075406151259497817])"
      ]
     },
     "execution_count": 31,
     "metadata": {},
     "output_type": "execute_result"
    }
   ],
   "source": [
    "context = \"ключ - Металлический стержень особой формы для отпирания и запирания замка\"\n",
    "wsd_model.dis_text(context, word, 0, 4)"
   ]
  },
  {
   "cell_type": "code",
   "execution_count": 36,
   "metadata": {},
   "outputs": [
    {
     "data": {
      "text/plain": [
       "('ключ#4',\n",
       " [0.20482207192807622,\n",
       "  0.23251588640731458,\n",
       "  0.12376888477421301,\n",
       "  0.32699153638902612,\n",
       "  0.13794625108490285])"
      ]
     },
     "execution_count": 36,
     "metadata": {},
     "output_type": "execute_result"
    }
   ],
   "source": [
    "context = \"ключ, Родник — естественный выход подземных вод на земную поверхность на суше или под водой\"\n",
    "wsd_model.dis_text(context, word, 0, 4)"
   ]
  }
 ],
 "metadata": {
  "kernelspec": {
   "display_name": "Python 3",
   "language": "python",
   "name": "python3"
  },
  "language_info": {
   "codemirror_mode": {
    "name": "ipython",
    "version": 3
   },
   "file_extension": ".py",
   "mimetype": "text/x-python",
   "name": "python",
   "nbconvert_exporter": "python",
   "pygments_lexer": "ipython3",
   "version": "3.6.3"
  }
 },
 "nbformat": 4,
 "nbformat_minor": 2
}

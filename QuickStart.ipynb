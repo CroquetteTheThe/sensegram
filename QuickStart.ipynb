{
 "cells": [
  {
   "cell_type": "markdown",
   "metadata": {},
   "source": [
    "# Demonstrating various stages of word sense disambiguation\n",
    "\n",
    "The example below relies on a model for the German language. Usage of the toolkit for other languages is the same.\n",
    "You just need to download a model for the corresponding language."
   ]
  },
  {
   "cell_type": "markdown",
   "metadata": {},
   "source": [
    "## 1. Loading pre-trained sense vectors \n",
    "\n",
    "To test with word sense embeddings you can use a pretrained model (sense vectors and sense probabilities). These sense         vectors were induced from Wikipedia using word2vec similarities between words in ego-networks. Sense probabilities are       stored in a separate file which is located next to the file with sense vectors. "
   ]
  },
  {
   "cell_type": "code",
   "execution_count": null,
   "metadata": {
    "collapsed": true
   },
   "outputs": [],
   "source": [
    "import sensegram\n",
    "\n",
    "# see README for model download information\n",
    "sense_vectors_fpath = \"model/dewiki.txt.clusters.minsize5-1000-sum-score-20.sense_vectors\"\n",
    "sv = sensegram.SenseGram.load_word2vec_format(sense_vectors_fpath, binary=False)"
   ]
  },
  {
   "cell_type": "markdown",
   "metadata": {},
   "source": [
    "## 2. Getting the list of senses of a word \n",
    "\n",
    "Probabilities of senses will be loaded automatically if placed in the same folder as sense vectors and named according to the  same scheme as our pretrained files. To examine how many senses were learned for a word call `get_senses` funcion:"
   ]
  },
  {
   "cell_type": "code",
   "execution_count": null,
   "metadata": {
    "collapsed": true
   },
   "outputs": [],
   "source": [
    "word = \"Hund\"\n",
    "sv.get_senses(word)"
   ]
  },
  {
   "cell_type": "markdown",
   "metadata": {},
   "source": [
    "## 3. Sense aware nearest neighbors\n",
    "\n",
    "The function returns a list of sense names with probabilities for each sense. As one can see, our model has learned two senses for the word \"ключ\".\n",
    "\n",
    "To understand which word sense is represented with a sense vector use `most_similar` function:\n"
   ]
  },
  {
   "cell_type": "code",
   "execution_count": null,
   "metadata": {
    "collapsed": true,
    "scrolled": false
   },
   "outputs": [],
   "source": [
    "word = \"Hund\"\n",
    "for sense_id, prob in sv.get_senses(word):\n",
    "    print(sense_id)\n",
    "    print(\"=\"*20)\n",
    "    for rsense_id, sim in sv.wv.most_similar(sense_id):\n",
    "        print(\"{} {:f}\".format(rsense_id, sim))\n",
    "    print(\"\\n\")"
   ]
  },
  {
   "cell_type": "markdown",
   "metadata": {},
   "source": [
    "## 4. Word sense disambiguation: loading word embeddings\n",
    "\n",
    "To use our word sense disambiguation mechanism you also need word vectors or context vectors, depending on the dismabiguation  strategy. Those word are located in the ``model`` directory and has the extension ``.vectors``.\n",
    "\n",
    "Our WSD mechanism is based on word similarities (`sim`) and requires word vectors to represent context words. In following we provide a disambiguation example using similarity strategy.\n",
    "\n",
    "First, load word vectors using gensim library:\n"
   ]
  },
  {
   "cell_type": "code",
   "execution_count": null,
   "metadata": {
    "collapsed": true
   },
   "outputs": [],
   "source": [
    "from gensim.models import KeyedVectors\n",
    "word_vectors_fpath = \"model/dewiki.txt.word_vectors\"\n",
    "wv = KeyedVectors.load_word2vec_format(word_vectors_fpath, binary=False, unicode_errors=\"ignore\")"
   ]
  },
  {
   "cell_type": "markdown",
   "metadata": {},
   "source": [
    "Then initialise the WSD object with sense and word vectors:"
   ]
  },
  {
   "cell_type": "code",
   "execution_count": null,
   "metadata": {
    "collapsed": true
   },
   "outputs": [],
   "source": [
    "from wsd import WSD\n",
    "wsd_model = WSD(sv, wv, window=5, method='sim', filter_ctx=3)"
   ]
  },
  {
   "cell_type": "markdown",
   "metadata": {},
   "source": [
    "The settings have the following meaning: it will extract at most `window`*2 words around the target word from the  sentence as context and it will use only three most discriminative context words for disambiguation.\n",
    "\n",
    "Now you can disambiguate the word \"table\" in the sentence \"They bought a table and chairs for kitchen\" using       `dis_text` function. As input it takes a sentence with space separated tokens, a target word, and start/end indices of the target word in the given sentence.\n"
   ]
  },
  {
   "cell_type": "code",
   "execution_count": null,
   "metadata": {
    "collapsed": true
   },
   "outputs": [],
   "source": [
    "word = \"Hund\"\n",
    "context = \"Die beste Voraussetzung für die Hund-Katze-Freundschaft ist, dass keiner von beiden in der Vergangenheit unangenehme Erlebnisse mit der anderen Gattung hatte. Am einfachsten ist die ungleiche WG, wenn sich zwei Jungtiere ein Zuhause teilen. Bei erwachsenen Tieren ist es einfacher, wenn sich Miezi in Bellos Haushalt einnistet – nicht umgekehrt, da Hunde Rudeltiere sind. Damit ein Hund das Kätzchen aber auch als Rudelmitglied sieht und nicht als Futter sollten ein paar Regeln beachtet werden\"\n",
    "wsd_model.dis_text(context, word, 0, 4)"
   ]
  },
  {
   "cell_type": "markdown",
   "metadata": {},
   "source": [
    "# Putting the four steps described above together\n",
    "\n",
    "An example of words sense induction, in this case for the English language \n"
   ]
  },
  {
   "cell_type": "code",
   "execution_count": null,
   "metadata": {
    "collapsed": true
   },
   "outputs": [],
   "source": [
    "import sensegram\n",
    "from wsd import WSD\n",
    "from gensim.models import KeyedVectors\n",
    "\n",
    "\n",
    "# Input data and paths (see README for model download information)\n",
    "sense_vectors_fpath = \"model/wiki.txt.clusters.minsize5-1000-sum-score-20.sense_vectors\"\n",
    "word_vectors_fpath = \"model/wiki.txt.word_vectors\"\n",
    "context_words_max = 3 # change this paramters to 1, 2, 5, 10, 15, 20 : it may improve the results\n",
    "context_window_size = 5 # this parameters can be also changed during experiments \n",
    "word = \"python\"\n",
    "context = \"Python is an interpreted high-level programming language for general-purpose programming. Created by Guido van Rossum and first released in 1991, Python has a design philosophy that emphasizes code readability, notably using significant whitespace.\"\n",
    "ignore_case = True\n",
    "lang = \"en\" # to filter out stopwords\n",
    "\n",
    "# Load models (takes long time)\n",
    "sv = sensegram.SenseGram.load_word2vec_format(sense_vectors_fpath, binary=False)\n",
    "wv = KeyedVectors.load_word2vec_format(word_vectors_fpath, binary=False, unicode_errors=\"ignore\")\n",
    "\n",
    "# Play with the model (is quick)\n",
    "print(\"Probabilities of the senses:\\n{}\\n\\n\".format(sv.get_senses(word, ignore_case=ignore_case)))\n",
    "\n",
    "for sense_id, prob in sv.get_senses(word, ignore_case=ignore_case):\n",
    "    print(sense_id)\n",
    "    print(\"=\"*20)\n",
    "    for rsense_id, sim in sv.wv.most_similar(sense_id):\n",
    "        print(\"{} {:f}\".format(rsense_id, sim))\n",
    "    print(\"\\n\")\n",
    "\n",
    "# Disambiguate a word in a context\n",
    "wsd_model = WSD(sv, wv, window=context_window_size, lang=lang,\n",
    "                filter_ctx=context_words_max, ignore_case=ignore_case)    \n",
    "print(wsd_model.disambiguate(context, word))\n"
   ]
  },
  {
   "cell_type": "markdown",
   "metadata": {},
   "source": [
    "# SDEWaC corpus"
   ]
  },
  {
   "cell_type": "code",
   "execution_count": null,
   "metadata": {
    "collapsed": true
   },
   "outputs": [],
   "source": [
    "import sensegram\n",
    "from wsd import WSD\n",
    "from gensim.models import KeyedVectors\n",
    "\n",
    "\n",
    "# Input data and paths\n",
    "sense_vectors_fpath = \"model/sdewac-v3.corpus.clusters.minsize5-1000-sum-score-20.sense_vectors\"\n",
    "word_vectors_fpath = \"model/sdewac-v3.corpus.word_vectors\"\n",
    "context_words_max = 3 # change this paramters to 1, 2, 5, 10, 15, 20 : it may improve the results\n",
    "context_window_size = 5 # this parameters can be also changed during experiments \n",
    "word = \"Maus\"\n",
    "context = \"Die Maus ist ein Eingabegerät (Befehlsgeber) bei Computern. Der allererste Prototyp wurde 1963 nach Zeichnungen von Douglas C. Engelbart gebaut; seit Mitte der 1980er Jahre bildet die Maus für fast alle Computertätigkeiten zusammen mit dem Monitor und der Tastatur eine der wichtigsten Mensch-Maschine-Schnittstellen. Die Entwicklung grafischer Benutzeroberflächen hat die Computermaus zu einem heute praktisch an jedem Desktop-PC verfügbaren Standardeingabegerät gemacht.\"\n",
    "ignore_case = True\n",
    "\n",
    "# Load models (takes long time)\n",
    "sv = sensegram.SenseGram.load_word2vec_format(sense_vectors_fpath, binary=False)\n",
    "wv = KeyedVectors.load_word2vec_format(word_vectors_fpath, binary=False, unicode_errors=\"ignore\")\n",
    "\n",
    "# Play with the model (is quick)\n",
    "print(\"Probabilities of the senses:\\n{}\\n\\n\".format(sv.get_senses(word, ignore_case=ignore_case)))\n",
    "\n",
    "for sense_id, prob in sv.get_senses(word, ignore_case=ignore_case):\n",
    "    print(sense_id)\n",
    "    print(\"=\"*20)\n",
    "    for rsense_id, sim in sv.wv.most_similar(sense_id):\n",
    "        print(\"{} {:f}\".format(rsense_id, sim))\n",
    "    print(\"\\n\")\n",
    "\n",
    "# Disambiguate a word in a context\n",
    "wsd_model = WSD(sv, wv, window=context_window_size, lang=\"de\",\n",
    "                filter_ctx=context_words_max, ignore_case=ignore_case)    \n",
    "print(wsd_model.disambiguate(context, word))"
   ]
  },
  {
   "cell_type": "markdown",
   "metadata": {},
   "source": [
    "# Word sense induction exepriment for the Russian language"
   ]
  },
  {
   "cell_type": "code",
   "execution_count": 1,
   "metadata": {},
   "outputs": [
    {
     "ename": "AttributeError",
     "evalue": "'set' object has no attribute 'append'",
     "output_type": "error",
     "traceback": [
      "\u001b[0;31m---------------------------------------------------------------------------\u001b[0m",
      "\u001b[0;31mAttributeError\u001b[0m                            Traceback (most recent call last)",
      "\u001b[0;32m<ipython-input-1-fb6973e60458>\u001b[0m in \u001b[0;36m<module>\u001b[0;34m()\u001b[0m\n\u001b[1;32m     19\u001b[0m \u001b[0;34m\u001b[0m\u001b[0m\n\u001b[1;32m     20\u001b[0m \u001b[0;31m# Play with the model (is quick)\u001b[0m\u001b[0;34m\u001b[0m\u001b[0;34m\u001b[0m\u001b[0m\n\u001b[0;32m---> 21\u001b[0;31m \u001b[0mprint\u001b[0m\u001b[0;34m(\u001b[0m\u001b[0;34m\"Probabilities of the senses:\\n{}\\n\\n\"\u001b[0m\u001b[0;34m.\u001b[0m\u001b[0mformat\u001b[0m\u001b[0;34m(\u001b[0m\u001b[0msv\u001b[0m\u001b[0;34m.\u001b[0m\u001b[0mget_senses\u001b[0m\u001b[0;34m(\u001b[0m\u001b[0mword\u001b[0m\u001b[0;34m,\u001b[0m \u001b[0mignore_case\u001b[0m\u001b[0;34m=\u001b[0m\u001b[0mignore_case\u001b[0m\u001b[0;34m)\u001b[0m\u001b[0;34m)\u001b[0m\u001b[0;34m)\u001b[0m\u001b[0;34m\u001b[0m\u001b[0m\n\u001b[0m\u001b[1;32m     22\u001b[0m \u001b[0;34m\u001b[0m\u001b[0m\n\u001b[1;32m     23\u001b[0m \u001b[0;32mfor\u001b[0m \u001b[0msense_id\u001b[0m\u001b[0;34m,\u001b[0m \u001b[0mprob\u001b[0m \u001b[0;32min\u001b[0m \u001b[0msv\u001b[0m\u001b[0;34m.\u001b[0m\u001b[0mget_senses\u001b[0m\u001b[0;34m(\u001b[0m\u001b[0mword\u001b[0m\u001b[0;34m,\u001b[0m \u001b[0mignore_case\u001b[0m\u001b[0;34m=\u001b[0m\u001b[0mignore_case\u001b[0m\u001b[0;34m)\u001b[0m\u001b[0;34m:\u001b[0m\u001b[0;34m\u001b[0m\u001b[0m\n",
      "\u001b[0;32m~/sensegram/sensegram.py\u001b[0m in \u001b[0;36mget_senses\u001b[0;34m(self, word, ignore_case)\u001b[0m\n\u001b[1;32m     49\u001b[0m         \u001b[0msenses\u001b[0m \u001b[0;34m=\u001b[0m \u001b[0;34m[\u001b[0m\u001b[0;34m]\u001b[0m\u001b[0;34m\u001b[0m\u001b[0m\n\u001b[1;32m     50\u001b[0m         \u001b[0;32mif\u001b[0m \u001b[0mignore_case\u001b[0m\u001b[0;34m:\u001b[0m\u001b[0;34m\u001b[0m\u001b[0m\n\u001b[0;32m---> 51\u001b[0;31m             \u001b[0mwords\u001b[0m\u001b[0;34m.\u001b[0m\u001b[0mappend\u001b[0m\u001b[0;34m(\u001b[0m\u001b[0mword\u001b[0m\u001b[0;34m.\u001b[0m\u001b[0mtitle\u001b[0m\u001b[0;34m(\u001b[0m\u001b[0;34m)\u001b[0m\u001b[0;34m)\u001b[0m\u001b[0;34m\u001b[0m\u001b[0m\n\u001b[0m\u001b[1;32m     52\u001b[0m             \u001b[0mwords\u001b[0m\u001b[0;34m.\u001b[0m\u001b[0mappend\u001b[0m\u001b[0;34m(\u001b[0m\u001b[0mword\u001b[0m\u001b[0;34m.\u001b[0m\u001b[0mlower\u001b[0m\u001b[0;34m(\u001b[0m\u001b[0;34m)\u001b[0m\u001b[0;34m)\u001b[0m\u001b[0;34m\u001b[0m\u001b[0m\n\u001b[1;32m     53\u001b[0m \u001b[0;34m\u001b[0m\u001b[0m\n",
      "\u001b[0;31mAttributeError\u001b[0m: 'set' object has no attribute 'append'"
     ]
    }
   ],
   "source": [
    "import sensegram\n",
    "from wsd import WSD\n",
    "from gensim.models import KeyedVectors\n",
    "\n",
    "\n",
    "# Input data and paths\n",
    "sense_vectors_fpath = \"model/wikipedia-ru-2018.txt.clusters.minsize5-1000-sum-score-20.sense_vectors\"\n",
    "word_vectors_fpath = \"model/wikipedia-ru-2018.txt.word_vectors\"\n",
    "max_context_words = 3 # change this paramters to 1, 2, 5, 10, 15, 20 : it may improve the results\n",
    "context_window_size = 20 # this parameters can be also changed during experiments \n",
    "word = \"ключ\"\n",
    "context = \"Ключ — это секретная информация, используемая криптографическим алгоритмом при зашифровании/расшифровании сообщений, постановке и проверке цифровой подписи, вычислении кодов аутентичности (MAC). При использовании одного и того же алгоритма результат шифрования зависит от ключа. Для современных алгоритмов сильной криптографии утрата ключа приводит к практической невозможности расшифровать информацию.\"\n",
    "ignore_case = True\n",
    "lang = \"ru\" # to filter out stopwords\n",
    "\n",
    "# Load models (takes long time)\n",
    "wv = KeyedVectors.load_word2vec_format(word_vectors_fpath, binary=False, unicode_errors=\"ignore\")\n",
    "sv = sensegram.SenseGram.load_word2vec_format(sense_vectors_fpath, binary=False)\n",
    "\n",
    "# Play with the model (is quick)\n",
    "print(\"Probabilities of the senses:\\n{}\\n\\n\".format(sv.get_senses(word, ignore_case=ignore_case)))\n",
    "\n",
    "for sense_id, prob in sv.get_senses(word, ignore_case=ignore_case):\n",
    "    print(sense_id)\n",
    "    print(\"=\"*20)\n",
    "    for rsense_id, sim in sv.wv.most_similar(sense_id):\n",
    "        print(\"{} {:f}\".format(rsense_id, sim))\n",
    "    print(\"\\n\")\n",
    "\n",
    "# Disambiguate a word in a context\n",
    "wsd_model = WSD(sv, wv, window=context_window_size, lang=lang,\n",
    "                max_context_words=max_context_words, ignore_case=ignore_case)    \n",
    "print(wsd_model.disambiguate(context, word))\n",
    "\n",
    "\n",
    "###########################\n",
    "\n",
    "from pandas import read_csv \n",
    "\n",
    "# you can download the WSI evaluation dataset with 'git clone https://github.com/nlpub/russe-wsi-kit.git'\n",
    "wikiwiki_fpath = \"../russe-wsi-kit/data/main/wiki-wiki/test.csv\"\n",
    "activedict_fpath = \"../russe-wsi-kit/data/main/active-dict/test.csv\"\n",
    "btsrnc_fpath = \"../russe-wsi-kit/data/main/bts-rnc/test.csv\"\n",
    "\n",
    "def evaluate(dataset_fpath):\n",
    "    output_fpath = dataset_fpath + \".pred.csv\"\n",
    "\n",
    "    df = read_csv(dataset_fpath, sep=\"\\t\", encoding=\"utf-8\")\n",
    "\n",
    "    for i, row in df.iterrows():\n",
    "        sense_id, _ = wsd_model.disambiguate(row.context, row.word)\n",
    "        df.loc[i, \"predict_sense_id\"] = sense_id\n",
    "\n",
    "    df.to_csv(output_fpath, sep=\"\\t\", encoding=\"utf-8\")\n",
    "    print(\"Output:\", output_fpath)\n",
    "    \n",
    "    return output_fpath\n",
    "\n",
    "evaluate(wikiwiki_fpath)\n",
    "evaluate(btsrnc_fpath)\n",
    "evaluate(activedict_fpath)"
   ]
  },
  {
   "cell_type": "code",
   "execution_count": null,
   "metadata": {},
   "outputs": [],
   "source": [
    "word = \"коса\"\n",
    "for c in [True, False]:\n",
    "    \n",
    "    wsd_model = WSD(sv, wv, window=context_window_size, lang=lang,\n",
    "                    max_context_words=max_context_words, ignore_case=c)    \n",
    "\n",
    "    print(sv.get_senses(word, ignore_case=c))\n",
    "    print(word); print(); print(context) ; print()\n",
    "    print(wsd_model.disambiguate(context, word))\n",
    "\n"
   ]
  },
  {
   "cell_type": "code",
   "execution_count": null,
   "metadata": {
    "collapsed": true
   },
   "outputs": [],
   "source": [
    "%load_ext autoreload\n",
    "%autoreload 2"
   ]
  }
 ],
 "metadata": {
  "kernelspec": {
   "display_name": "Python 3",
   "language": "python",
   "name": "python3"
  },
  "language_info": {
   "codemirror_mode": {
    "name": "ipython",
    "version": 3
   },
   "file_extension": ".py",
   "mimetype": "text/x-python",
   "name": "python",
   "nbconvert_exporter": "python",
   "pygments_lexer": "ipython3",
   "version": "3.6.3"
  }
 },
 "nbformat": 4,
 "nbformat_minor": 2
}

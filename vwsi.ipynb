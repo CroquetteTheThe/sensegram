{
 "cells": [
  {
   "cell_type": "code",
   "execution_count": null,
   "metadata": {},
   "outputs": [],
   "source": []
  },
  {
   "cell_type": "code",
   "execution_count": null,
   "metadata": {},
   "outputs": [],
   "source": [
    "# save the model in the gensim format to load it fast again\n",
    "de_gensim_fpath = \"model/cc.de.300.word_vectors.gensim\"\n",
    "\n",
    "tic = time()\n",
    "wv.save(de_gensim_fpath)\n",
    "print(\"Saved in {} sec.\".format(time()-tic))"
   ]
  },
  {
   "cell_type": "code",
   "execution_count": null,
   "metadata": {},
   "outputs": [],
   "source": [
    "from gensim.models import Word2Vec\n",
    "\n",
    "# load the model \n",
    "\n",
    "tic = time()\n",
    "wvg = Word2Vec.load(de_gensim_fpath)\n",
    "print(\"Loaded in {} sec.\".format(time()-tic))"
   ]
  },
  {
   "cell_type": "code",
   "execution_count": null,
   "metadata": {
    "collapsed": true
   },
   "outputs": [],
   "source": []
  },
  {
   "cell_type": "code",
   "execution_count": null,
   "metadata": {},
   "outputs": [],
   "source": []
  },
  {
   "cell_type": "code",
   "execution_count": null,
   "metadata": {},
   "outputs": [],
   "source": [
    "from word_sense_induction import minimize \n",
    "from chinese_whispers import chinese_whispers, aggregate_clusters\n",
    "from networkx import Graph\n",
    "from gensim.models import KeyedVectors\n",
    "from time import time \n",
    "\n",
    "\n",
    "TOPN = 50\n",
    "verbose = True\n",
    "# load the wv here as a global variable ...\n",
    "\n",
    "# load de vectors with gensim \n",
    "tic = time()\n",
    "word_vectors_fpath = \"model/cc.de.300.word_vectors\"\n",
    "wv = KeyedVectors.load_word2vec_format(word_vectors_fpath, binary=False, unicode_errors=\"ignore\")\n",
    "print(\"Loaded in {} sec.\".format(time()-tic))\n",
    "\n",
    "\n",
    "def get_nns(target, topn=TOPN):\n",
    "    nns = wv.most_similar(positive=[target], negative=[], topn=topn)\n",
    "    nns = [(word, score) for word, score in nns if minimize(word) != minimize(target)]\n",
    "    return nns\n",
    "\n",
    "\n",
    "def in_nns(nns, word):\n",
    "    for w, s in nns:\n",
    "        if minimize(word) == minimize(w):\n",
    "            return True\n",
    "        \n",
    "    return False \n",
    "\n",
    "\n",
    "def get_pair(first, second):\n",
    "    pair_lst = sorted([first, second])\n",
    "    sorted_pair = (pair_lst[0], pair_lst[1])\n",
    "    return sorted_pair         \n",
    "\n",
    "\n",
    "def get_disc_pairs(ego, topn=TOPN):  \n",
    "    pairs = set()\n",
    "    nns = get_nns(ego, topn)\n",
    "    \n",
    "    for i in range(len(nns)):\n",
    "        topi = nns[i][0]\n",
    "        nns_topi = get_nns(topi, topn) \n",
    "        nns_untopi = wv.most_similar(positive=[ego], negative=[topi], topn=topn)\n",
    "        untopi = nns_untopi[0][0]\n",
    "        if in_nns(nns, untopi): pairs.add(get_pair(topi, untopi))\n",
    "\n",
    "    return pairs\n",
    "\n",
    "\n",
    "def get_nodes(pairs):\n",
    "    nodes = set()\n",
    "    for src, dst in pairs:\n",
    "        nodes.add(src)\n",
    "        nodes.add(dst)\n",
    "        \n",
    "    return nodes\n",
    "\n",
    "\n",
    "def foo(ego, topn=TOPN):\n",
    "    pairs = get_disc_pairs(ego, topn)\n",
    "    nodes = get_nodes(pairs)\n",
    "    \n",
    "    return pairs, nodes\n",
    "\n",
    "\n",
    "def list2dict(lst):\n",
    "    return {p[0]: p[1] for p in lst}\n",
    "\n",
    "\n",
    "def wsi(ego, topn=TOPN):\n",
    "    tic = time()\n",
    "    ego_network = Graph(name=ego)\n",
    "\n",
    "    pairs = get_disc_pairs(ego, topn)\n",
    "    nodes = get_nodes(pairs)   \n",
    "    ego_network.add_nodes_from(nodes)\n",
    "\n",
    "    for r_node in ego_network:\n",
    "        related_related_nodes = list2dict(get_nns(r_node))\n",
    "        related_related_nodes_ego = sorted(\n",
    "            [(related_related_nodes[rr_node], rr_node) for rr_node in related_related_nodes if rr_node in ego_network],\n",
    "            reverse=True)[:topn]\n",
    "        \n",
    "        related_edges = []\n",
    "        for w, rr_node in related_related_nodes_ego:\n",
    "            if get_pair(r_node, rr_node) not in pairs:\n",
    "                related_edges.append( (r_node, rr_node, {\"weight\": w}) )\n",
    "            else:\n",
    "                print(\"Skipping:\", r_node, rr_node)\n",
    "        ego_network.add_edges_from(related_edges)\n",
    "\n",
    "    chinese_whispers(ego_network, weighting=\"top\", iterations=20)\n",
    "    if verbose: print(\"{}\\t{:f} sec.\".format(ego, time()-tic))\n",
    "\n",
    "    return ego_network\n",
    "\n",
    "\n",
    "m = wsi(\"Maus\")\n",
    "s = wsi(\"Schlange\")"
   ]
  },
  {
   "cell_type": "code",
   "execution_count": null,
   "metadata": {
    "collapsed": true
   },
   "outputs": [],
   "source": [
    "%matplotlib inline"
   ]
  },
  {
   "cell_type": "code",
   "execution_count": null,
   "metadata": {},
   "outputs": [],
   "source": [
    "import networkx as nx\n",
    "import matplotlib.pyplot as plt\n",
    "\n",
    "G = m\n",
    "\n",
    "colors = [1. / G.node[node]['label'] for node in G.nodes()]\n",
    "\n",
    "fig = plt.gcf()\n",
    "fig.set_size_inches(10, 10)\n",
    "\n",
    "nx.draw_networkx(G, cmap=plt.get_cmap('gist_rainbow'), node_color=colors, font_color='black')\n",
    "\n",
    "plt.show()"
   ]
  },
  {
   "cell_type": "code",
   "execution_count": null,
   "metadata": {},
   "outputs": [],
   "source": [
    "import networkx as nx\n",
    "import matplotlib.pyplot as plt\n",
    "\n",
    "G = s\n",
    "\n",
    "colors = [1. / G.node[node]['label'] for node in G.nodes()]\n",
    "\n",
    "fig = plt.gcf()\n",
    "fig.set_size_inches(10, 10)\n",
    "\n",
    "nx.draw_networkx(G, cmap=plt.get_cmap('gist_rainbow'), node_color=colors,\n",
    "                 font_color='black')\n",
    "\n",
    "plt.show()"
   ]
  },
  {
   "cell_type": "code",
   "execution_count": null,
   "metadata": {},
   "outputs": [],
   "source": [
    "G = m\n",
    "print('Cluster ID\\tCluster elements\\n')\n",
    "for label, cluster in sorted(aggregate_clusters(G).items(), key=lambda e: len(e[1]), reverse=True):\n",
    "    print('{}\\t{}\\n'.format(label, cluster))\n"
   ]
  },
  {
   "cell_type": "code",
   "execution_count": null,
   "metadata": {},
   "outputs": [],
   "source": [
    "G = s\n",
    "print('Cluster ID\\tCluster elements\\n')\n",
    "for label, cluster in sorted(aggregate_clusters(G).items(), key=lambda e: len(e[1]), reverse=True):\n",
    "    print('{}\\t{}\\n'.format(label, cluster))\n",
    "\n"
   ]
  },
  {
   "cell_type": "code",
   "execution_count": null,
   "metadata": {
    "collapsed": true
   },
   "outputs": [],
   "source": []
  },
  {
   "cell_type": "code",
   "execution_count": null,
   "metadata": {},
   "outputs": [],
   "source": [
    "%load_ext autoreload\n",
    "%autoreload 2"
   ]
  }
 ],
 "metadata": {
  "kernelspec": {
   "display_name": "Python 3",
   "language": "python",
   "name": "python3"
  },
  "language_info": {
   "codemirror_mode": {
    "name": "ipython",
    "version": 3
   },
   "file_extension": ".py",
   "mimetype": "text/x-python",
   "name": "python",
   "nbconvert_exporter": "python",
   "pygments_lexer": "ipython3",
   "version": "3.6.3"
  }
 },
 "nbformat": 4,
 "nbformat_minor": 2
}

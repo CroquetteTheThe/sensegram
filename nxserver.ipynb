{
 "cells": [
  {
   "cell_type": "code",
   "execution_count": null,
   "metadata": {},
   "outputs": [],
   "source": []
  },
  {
   "cell_type": "code",
   "execution_count": null,
   "metadata": {},
   "outputs": [
    {
     "name": "stdout",
     "output_type": "stream",
     "text": [
      "Loading the graph: /home/panchenko/sensegram/model/text8.graph\n",
      "..........................................................."
     ]
    }
   ],
   "source": [
    "from multiprocessing import Manager, Process\n",
    "import Pyro4\n",
    "import networkx as nx \n",
    "from time import time, sleep\n",
    "\n",
    "\n",
    "@Pyro4.expose\n",
    "class NetworkxServer(object):\n",
    "    def __init__(self, neighbors_fpath):\n",
    "        tic = time()\n",
    "        print(\"Loading the graph:\", neighbors_fpath)\n",
    "        self.G = nx.read_edgelist(\n",
    "           neighbors_fpath,\n",
    "           nodetype=str,\n",
    "           delimiter=\"\\t\",\n",
    "           data=(('weight',float),))\n",
    "        \n",
    "        print(\"Loaded in {:f} sec.\".format(time() - tic))\n",
    "                   \n",
    "    def get_neighbors(self, node):\n",
    "        return self.G[node]\n",
    "    \n",
    "    def get_node(self, node):\n",
    "        return self.G.nodes[node]\n",
    "    \n",
    "    def get_edge(self, node_i, node_j):\n",
    "        return self.G[node_i][node_j]    \n",
    "    \n",
    "    def get_node_list(self):\n",
    "        return self.G.nodes.keys()\n",
    "    \n",
    "\n",
    "def run_pyro_daemon(neighbors_fpath):\n",
    "    networkx_server = NetworkxServer(neighbors_fpath)\n",
    "    daemon = Pyro4.Daemon()   \n",
    "    uri = daemon.register(networkx_server)\n",
    "    d[\"uri\"] = uri\n",
    "    daemon.requestLoop()\n",
    "    \n",
    "\n",
    "d = Manager().dict()\n",
    "\n",
    "\n",
    "class NetworxServerManager(object):\n",
    "    def __init__(self, neighbors_fpath):\n",
    "        \n",
    "        self._graph_server = self._graph_server = Process(\n",
    "                name='NetworkX RPC server',\n",
    "                target=run_pyro_daemon,\n",
    "                args=(neighbors_fpath,))\n",
    "        self._graph_server.daemon = True\n",
    "        self._graph_server.start()\n",
    "        \n",
    "        global d\n",
    "        d[\"uri\"] = \"\"\n",
    "        while(d[\"uri\"] == \"\"):\n",
    "            sleep(1)\n",
    "            print(\".\", end=\"\")\n",
    "        print(\"\")    \n",
    "        self.uri = d[\"uri\"]\n",
    "        print(self.uri)\n",
    "\n",
    "    def stop(self):\n",
    "        self._graph_server.terminate()        \n",
    "    \n",
    "    \n",
    "neighbors_fpath = \"/home/panchenko/sensegram/model/text8.graph\"\n",
    "s = NetworxServerManager(neighbors_fpath)"
   ]
  },
  {
   "cell_type": "code",
   "execution_count": 19,
   "metadata": {},
   "outputs": [],
   "source": [
    "Value??"
   ]
  }
 ],
 "metadata": {
  "kernelspec": {
   "display_name": "Python 3",
   "language": "python",
   "name": "python3"
  },
  "language_info": {
   "codemirror_mode": {
    "name": "ipython",
    "version": 3
   },
   "file_extension": ".py",
   "mimetype": "text/x-python",
   "name": "python",
   "nbconvert_exporter": "python",
   "pygments_lexer": "ipython3",
   "version": "3.6.3"
  }
 },
 "nbformat": 4,
 "nbformat_minor": 2
}

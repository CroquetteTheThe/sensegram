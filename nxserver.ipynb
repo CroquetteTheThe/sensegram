{
 "cells": [
  {
   "cell_type": "code",
   "execution_count": 15,
   "metadata": {},
   "outputs": [
    {
     "name": "stdout",
     "output_type": "stream",
     "text": [
      "Loading the graph: /home/panchenko/sensegram/model/text8.graph\n",
      "Loaded in 74.115192 sec.\n",
      "<Process(NetworkX RPC server, started daemon)>\n",
      "URI: PYRO:obj_deed3aba75ff46389e3f104621e10f2f@localhost:43890\n"
     ]
    }
   ],
   "source": [
    "import Pyro4\n",
    "import networkx as nx \n",
    "from time import time\n",
    "from multiprocessing import Process\n",
    "\n",
    "\n",
    "@Pyro4.expose\n",
    "class NetworkxServer(object):\n",
    "    def __init__(self, neighbors_fpath):\n",
    "        tic = time()\n",
    "        print(\"Loading the graph:\", neighbors_fpath)\n",
    "        self.G = nx.read_edgelist(\n",
    "            neighbors_fpath,\n",
    "            nodetype=str,\n",
    "            delimiter=\"\\t\",\n",
    "            data=(('weight',float),))\n",
    "        print(\"Loaded in {:f} sec.\".format(time() - tic))\n",
    "                   \n",
    "    def get_neighbors(self, node):\n",
    "        return self.G[node]\n",
    "    \n",
    "    def get_node(self, node):\n",
    "        return self.G.nodes[node]\n",
    "    \n",
    "    def get_edge(self, node_i, node_j):\n",
    "        return self.G[node_i][node_j]    \n",
    "    \n",
    "    def get_node_list(self):\n",
    "        return self.G.nodes.keys()\n",
    "    \n",
    "\n",
    "def start_pyro_server(networkx_server):\n",
    "    \n",
    "    daemon = Pyro4.Daemon()   \n",
    "    uri = daemon.register(networkx_server)\n",
    "    print(\"URI:\", uri)\n",
    "    daemon.requestLoop()\n",
    "    \n",
    "    return uri \n",
    "\n",
    "    \n",
    "class NetworxServerManager(object):\n",
    "    def __init__(self, neighbors_fpath):\n",
    "        networkx_server = NetworkxServer(neighbors_fpath)\n",
    "\n",
    "        uri = self._graph_server = Process(\n",
    "                name='NetworkX RPC server',\n",
    "                target=start_pyro_server,\n",
    "                args=(networkx_server,))\n",
    "        self._graph_server.daemon = True\n",
    "        self._graph_server.start()\n",
    "        print(uri)\n",
    "\n",
    "    def stop(self):\n",
    "        self._graph_server.terminate()        \n",
    "    \n",
    "\n",
    "\n",
    "    \n",
    "    \n",
    "neighbors_fpath = \"/home/panchenko/sensegram/model/text8.graph\"\n",
    "s = NetworxServerManager(neighbors_fpath)\n"
   ]
  },
  {
   "cell_type": "code",
   "execution_count": 10,
   "metadata": {},
   "outputs": [
    {
     "data": {
      "text/plain": [
       "{}"
      ]
     },
     "execution_count": 10,
     "metadata": {},
     "output_type": "execute_result"
    }
   ],
   "source": []
  }
 ],
 "metadata": {
  "kernelspec": {
   "display_name": "Python 3",
   "language": "python",
   "name": "python3"
  },
  "language_info": {
   "codemirror_mode": {
    "name": "ipython",
    "version": 3
   },
   "file_extension": ".py",
   "mimetype": "text/x-python",
   "name": "python",
   "nbconvert_exporter": "python",
   "pygments_lexer": "ipython3",
   "version": "3.6.3"
  }
 },
 "nbformat": 4,
 "nbformat_minor": 2
}

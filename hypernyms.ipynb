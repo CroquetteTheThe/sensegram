{
 "cells": [
  {
   "cell_type": "code",
   "execution_count": 13,
   "metadata": {},
   "outputs": [
    {
     "name": "stderr",
     "output_type": "stream",
     "text": [
      "2018-06-07 13:33:57,332 : INFO : loading EuclideanKeyedVectors object from /home/panchenko/tmp/GoogleNews-vectors-negative300.txt.pkl\n",
      "2018-06-07 13:34:04,914 : INFO : loading syn0 from /home/panchenko/tmp/GoogleNews-vectors-negative300.txt.pkl.syn0.npy with mmap=None\n",
      "2018-06-07 13:34:06,914 : INFO : setting ignored attribute syn0norm to None\n",
      "2018-06-07 13:34:06,915 : INFO : loaded /home/panchenko/tmp/GoogleNews-vectors-negative300.txt.pkl\n"
     ]
    },
    {
     "name": "stdout",
     "output_type": "stream",
     "text": [
      "9.583322048187256 "
     ]
    },
    {
     "name": "stderr",
     "output_type": "stream",
     "text": [
      "2018-06-07 13:34:07,744 : INFO : loading EuclideanKeyedVectors object from /home/panchenko/tmp/all.norm-sz500-w10-cb0-it3-min5.w2v.pkl\n",
      "2018-06-07 13:34:25,904 : INFO : loading syn0 from /home/panchenko/tmp/all.norm-sz500-w10-cb0-it3-min5.w2v.pkl.syn0.npy with mmap=None\n",
      "2018-06-07 13:34:34,336 : INFO : setting ignored attribute syn0norm to None\n",
      "2018-06-07 13:34:34,338 : INFO : loaded /home/panchenko/tmp/all.norm-sz500-w10-cb0-it3-min5.w2v.pkl\n"
     ]
    },
    {
     "name": "stdout",
     "output_type": "stream",
     "text": [
      "sec.\n",
      "26.596656799316406 sec.\n"
     ]
    }
   ],
   "source": [
    "from gensim.models import KeyedVectors\n",
    "import logging\n",
    "from time import time\n",
    "from os.path import exists\n",
    "\n",
    "\n",
    "def try_print(w2v, test_word):\n",
    "    try:\n",
    "        for word, score in w2v.most_similar(test_word):\n",
    "            print(word, score)\n",
    "    except:\n",
    "        print(\"Warning: word '{}' not found.\".format(test_word))\n",
    "        \n",
    "    \n",
    "def load_and_pickle(w2v_fpath, binary=False):\n",
    "    tic = time()\n",
    "    logging.basicConfig(format='%(asctime)s : %(levelname)s : %(message)s', level=logging.INFO)\n",
    "    w2v_pkl_fpath = w2v_fpath + \".pkl\"\n",
    "\n",
    "    if exists(w2v_pkl_fpath):\n",
    "        w2v = KeyedVectors.load(w2v_pkl_fpath)\n",
    "    else:\n",
    "        w2v = KeyedVectors.load_word2vec_format(w2v_fpath, binary=binary, unicode_errors='ignore')\n",
    "        w2v.init_sims(replace=True)\n",
    "        try_print(w2v, \"for\")\n",
    "        try_print(w2v, \"для\")\n",
    "        w2v.save(w2v_pkl_fpath)\n",
    "    \n",
    "    print(time()- tic, \"sec.\")\n",
    "\n",
    "    return w2v, w2v_pkl_fpath\n",
    "\n",
    "w2v_en, w2v_en_fpath = load_and_pickle(\"/home/panchenko/tmp/GoogleNews-vectors-negative300.txt\")\n",
    "w2v_ru, w2v_ru_fpath = load_and_pickle(\"/home/panchenko/tmp/all.norm-sz500-w10-cb0-it3-min5.w2v\", binary=True)\n"
   ]
  },
  {
   "cell_type": "code",
   "execution_count": 9,
   "metadata": {},
   "outputs": [],
   "source": [
    "dsv.pcz.data[\"h1\"][0][\"cluster\"]"
   ]
  },
  {
   "cell_type": "code",
   "execution_count": null,
   "metadata": {
    "collapsed": true
   },
   "outputs": [],
   "source": [
    "import codecs\n",
    "from jnt.verbs.dense_sense_vectors import DenseSenseVectors \n",
    "import operator\n",
    "from multiprocessing import Pool\n",
    "from contextlib import contextmanager\n",
    "\n",
    "\n",
    "def run(output_dir, max_synsets=1, hyper_synset_max_size=10, hc_max=0):\n",
    "    output_fpath = output_dir + \"vector-link-s%d-hmx%d-hc%d.csv\" % (\n",
    "        max_synsets, hyper_synset_max_size, hc_max)  \n",
    "    bin_count = 0\n",
    "    \n",
    "    with codecs.open(output_fpath, \"w\", \"utf-8\") as out, codecs.open(output_fpath + \".log\", \"w\", \"utf-8\") as log:\n",
    "        for i, h_id in enumerate(dsv.pcz.data):\n",
    "            if i % 10000 == 0: print i\n",
    "            \n",
    "            if \"h\" in h_id:\n",
    "                hypo_h_senses = dsv.pcz.data[h_id][0][\"cluster\"]\n",
    "                tmp = sorted(dsv.pcz.data[h_id][0][\"cluster\"].items(), key=operator.itemgetter(1), reverse=True)\n",
    "                \n",
    "                s_id = \"s\" + h_id[1:]\n",
    "                hypo_senses = dsv.pcz.data[s_id][0][\"cluster\"]\n",
    "                log.write(\"\\n{}{}\\n\".format(\n",
    "                    h_id, \", \".join(hypo_h_senses)\n",
    "                ))\n",
    "                log.write(\"{}\\n\".format(\n",
    "                    \", \".join([\"{}:{}\".format(k,v) for k,v in tmp])\n",
    "                ))\n",
    "                log.write(\"{}{}\\n\".format(\n",
    "                    s_id, \", \".join(hypo_senses)\n",
    "                ))\n",
    "                \n",
    "                # save relations from the hierarchical context \n",
    "                for hypo_sense in hypo_senses:\n",
    "                    for hc_num, hyper_sense in enumerate(hypo_h_senses):\n",
    "                        if hc_num == hc_max: break\n",
    "                        hypo_word = hypo_sense.split(\"#\")[0]\n",
    "                        hyper_word = hyper_sense.split(\"#\")\n",
    "                        if hypo_word != hyper_word:\n",
    "                            out.write(\"{}\\t{}\\n\".format(hypo_word, hyper_word))\n",
    "                    bin_count += 1\n",
    "                     \n",
    "                # save binary relations from a synset\n",
    "                s_synsets = 0\n",
    "                for rh_id, s in dsv.sense_vectors.most_similar(h_id + \"#0\"):\n",
    "                    if \"s\" in rh_id:\n",
    "                        hyper_senses = dsv.pcz.data[rh_id.split(\"#\")[0]][0][\"cluster\"]\n",
    "                        if len(hyper_senses) > hyper_synset_max_size: continue\n",
    "                        \n",
    "                        rh_str = \", \".join(hyper_senses)\n",
    "                        log.write(\"\\t{}:{:.3f} {}\\n\".format(rh_id, s, rh_str))\n",
    "\n",
    "                        for hypo_sense in hypo_senses:\n",
    "                            for hyper_sense in hyper_senses:\n",
    "                                hypo_word = hypo_sense.split(\"#\")[0]\n",
    "                                hyper_word = hyper_sense.split(\"#\")[0]\n",
    "                                if hypo_word != hyper_word:\n",
    "                                    out.write(\"{}\\t{}\\n\".format(hypo_word, hyper_word))\n",
    "                                bin_count += 1\n",
    "                        s_synsets += 1\n",
    "                        \n",
    "                        if s_synsets >= max_synsets: break\n",
    "\n",
    "    print(\"# binary relations:\", bin_count)\n",
    "    print(\"binary relations:\", output_fpath)\n",
    "    print(\"log of binary relations:\", output_fpath + \".log\")\n",
    "    return (bin_count, output_fpath)\n",
    "    \n",
    "\n",
    "reload = False\n",
    "output_dir = \"/mnt10/verbs/watset/en/\"\n",
    "# pcz_fpath=\"/mnt10/verbs/watset-cw-nolog-mcl-joint-tfidf-linked-clusters.tsv.gz\" # ru\n",
    "pcz_fpath=\"/mnt10/verbs/watset/watset-cw-nolog-cw-log-joint-linked-sensegram.tsv.gz\" # en\n",
    "\n",
    "if reload or dsv is None:\n",
    "    dsv = DenseSenseVectors(\n",
    "        pcz_fpath=pcz_fpath,\n",
    "        word_vectors_obj=None,\n",
    "        save_pkl=True,\n",
    "        sense_dim_num=1000,\n",
    "        norm_type=\"sum\",\n",
    "        weight_type=\"score\",\n",
    "        max_cluster_words=999)\n",
    " \n",
    "todo = []\n",
    "for max_top_synsets in range(1,10):\n",
    "    for max_hyper_synset_size in [3, 5, 10, 15, 20]:\n",
    "        for hc_max in [1, 2, 3, 0]: \n",
    "            p = (output_dir, max_top_synsets, max_hyper_synset_size, hc_max)\n",
    "            todo.append(p)\n",
    "  \n",
    "# with terminating(Pool(32)) as pool:\n",
    "#     for res in pool.imap_unordered(runp, todo):\n",
    "#         print res\n",
    "     \n",
    "# for max_top_synsets in range(1,10):\n",
    "#     for max_hyper_synset_size in [3, 5, 10, 15, 20]:\n",
    "#         for hc_max in [1, 2, 3, 0]: \n",
    "#             print \"=\"*50\n",
    "#             print \"max number of synsets:\", max_top_synsets\n",
    "#             print \"max hyper synset size:\", max_hyper_synset_size\n",
    "#             print \"hc_max:\", hc_max\n",
    "#             run(output_dir, max_top_synsets, max_hyper_synset_size, hc_max)"
   ]
  }
 ],
 "metadata": {
  "kernelspec": {
   "display_name": "Python 3",
   "language": "python",
   "name": "python3"
  },
  "language_info": {
   "codemirror_mode": {
    "name": "ipython",
    "version": 3
   },
   "file_extension": ".py",
   "mimetype": "text/x-python",
   "name": "python",
   "nbconvert_exporter": "python",
   "pygments_lexer": "ipython3",
   "version": "3.6.3"
  }
 },
 "nbformat": 4,
 "nbformat_minor": 2
}

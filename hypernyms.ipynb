{
 "cells": [
  {
   "cell_type": "code",
   "execution_count": 13,
   "metadata": {},
   "outputs": [
    {
     "name": "stderr",
     "output_type": "stream",
     "text": [
      "2018-06-07 13:33:57,332 : INFO : loading EuclideanKeyedVectors object from /home/panchenko/tmp/GoogleNews-vectors-negative300.txt.pkl\n",
      "2018-06-07 13:34:04,914 : INFO : loading syn0 from /home/panchenko/tmp/GoogleNews-vectors-negative300.txt.pkl.syn0.npy with mmap=None\n",
      "2018-06-07 13:34:06,914 : INFO : setting ignored attribute syn0norm to None\n",
      "2018-06-07 13:34:06,915 : INFO : loaded /home/panchenko/tmp/GoogleNews-vectors-negative300.txt.pkl\n"
     ]
    },
    {
     "name": "stdout",
     "output_type": "stream",
     "text": [
      "9.583322048187256 "
     ]
    },
    {
     "name": "stderr",
     "output_type": "stream",
     "text": [
      "2018-06-07 13:34:07,744 : INFO : loading EuclideanKeyedVectors object from /home/panchenko/tmp/all.norm-sz500-w10-cb0-it3-min5.w2v.pkl\n",
      "2018-06-07 13:34:25,904 : INFO : loading syn0 from /home/panchenko/tmp/all.norm-sz500-w10-cb0-it3-min5.w2v.pkl.syn0.npy with mmap=None\n",
      "2018-06-07 13:34:34,336 : INFO : setting ignored attribute syn0norm to None\n",
      "2018-06-07 13:34:34,338 : INFO : loaded /home/panchenko/tmp/all.norm-sz500-w10-cb0-it3-min5.w2v.pkl\n"
     ]
    },
    {
     "name": "stdout",
     "output_type": "stream",
     "text": [
      "sec.\n",
      "26.596656799316406 sec.\n"
     ]
    }
   ],
   "source": [
    "from gensim.models import KeyedVectors\n",
    "import logging\n",
    "from time import time\n",
    "from os.path import exists\n",
    "\n",
    "\n",
    "def try_print(w2v, test_word):\n",
    "    try:\n",
    "        for word, score in w2v.most_similar(test_word):\n",
    "            print(word, score)\n",
    "    except:\n",
    "        print(\"Warning: word '{}' not found.\".format(test_word))\n",
    "        \n",
    "    \n",
    "def load_and_pickle(w2v_fpath, binary=False):\n",
    "    tic = time()\n",
    "    logging.basicConfig(format='%(asctime)s : %(levelname)s : %(message)s', level=logging.INFO)\n",
    "    w2v_pkl_fpath = w2v_fpath + \".pkl\"\n",
    "\n",
    "    if exists(w2v_pkl_fpath):\n",
    "        w2v = KeyedVectors.load(w2v_pkl_fpath)\n",
    "    else:\n",
    "        w2v = KeyedVectors.load_word2vec_format(w2v_fpath, binary=binary, unicode_errors='ignore')\n",
    "        w2v.init_sims(replace=True)\n",
    "        try_print(w2v, \"for\")\n",
    "        try_print(w2v, \"для\")\n",
    "        w2v.save(w2v_pkl_fpath)\n",
    "    \n",
    "    print(time()- tic, \"sec.\")\n",
    "\n",
    "    return w2v, w2v_pkl_fpath\n",
    "\n",
    "w2v_en, w2v_en_fpath = load_and_pickle(\"/home/panchenko/tmp/GoogleNews-vectors-negative300.txt\")\n",
    "w2v_ru, w2v_ru_fpath = load_and_pickle(\"/home/panchenko/tmp/all.norm-sz500-w10-cb0-it3-min5.w2v\", binary=True)\n"
   ]
  },
  {
   "cell_type": "code",
   "execution_count": 27,
   "metadata": {},
   "outputs": [
    {
     "name": "stdout",
     "output_type": "stream",
     "text": [
      "sV44307#0 0.9392018914222717\n",
      "sV42992#0 0.8116317987442017\n",
      "sN28534#0 0.7958892583847046\n",
      "sV48390#0 0.7906975746154785\n",
      "sN32026#0 0.7818558216094971\n",
      "sN41182#0 0.7586578130722046\n",
      "sN20787#0 0.7583646774291992\n",
      "sN30294#0 0.7494447231292725\n",
      "sN36673#0 0.7471664547920227\n",
      "sV46653#0 0.7462217807769775\n"
     ]
    }
   ],
   "source": [
    "#s2v, s2v_pkl = load_and_pickle(\"/home/panchenko/tmp/vector-link/konvens/ru/rwn-joint-tfidf-sensegram.tsv-1000-sum-score-20.sense_vectors\")\n",
    "\n",
    "try_print(s2v, \"sV43891#0\")"
   ]
  },
  {
   "cell_type": "code",
   "execution_count": 4,
   "metadata": {},
   "outputs": [
    {
     "data": {
      "text/plain": [
       "Counter({'вредить#1': 0.501205,\n",
       "         'говорить#1': 0.26525,\n",
       "         'красить#2': 0.386612,\n",
       "         'навредить#1': 0.501205,\n",
       "         'опустить#1': 0.256847,\n",
       "         'ругать#1': 0.253083})"
      ]
     },
     "execution_count": 4,
     "metadata": {},
     "output_type": "execute_result"
    }
   ],
   "source": [
    "dsv.pcz.data[\"hV44013\"][0][\"cluster\"]"
   ]
  },
  {
   "cell_type": "code",
   "execution_count": 1,
   "metadata": {},
   "outputs": [
    {
     "name": "stdout",
     "output_type": "stream",
     "text": [
      "Loading spacy model...\n",
      "Loaded 72143 words from: /home/panchenko/tmp/vector-link/konvens/ru/rwn-joint-tfidf-sensegram.tsv.pkl\n",
      "Loaded a pre-computed model from: /home/panchenko/tmp/vector-link/konvens/ru/rwn-joint-tfidf-sensegram.tsv-1000-sum-score-20.sense_vectors\n",
      "Loaded model from: /home/panchenko/tmp/vector-link/konvens/ru/rwn-joint-tfidf-sensegram.tsv\n"
     ]
    }
   ],
   "source": [
    "import codecs\n",
    "import operator\n",
    "from multiprocessing import Pool\n",
    "from vector_representations.dense_sense_vectors import DenseSenseVectors\n",
    "\n",
    "\n",
    "def generate_binary_hypers(output_dir, max_synsets=1, hyper_synset_max_size=10, hc_max=0):\n",
    "    output_fpath = output_dir + \"vector-link-s%d-hmx%d-hc%d.csv\" % (\n",
    "        max_synsets, hyper_synset_max_size, hc_max)  \n",
    "    bin_count = 0\n",
    "    \n",
    "    out = codecs.open(output_fpath, \"w\", \"utf-8\")\n",
    "    log = codecs.open(output_fpath + \".log\", \"w\", \"utf-8\")\n",
    "    \n",
    "    for i, h_id in enumerate(dsv.pcz.data):\n",
    "        if i % 10000 == 0: print(i)\n",
    "\n",
    "        if \"h\" in h_id:\n",
    "            hypo_h_senses = dsv.pcz.data[h_id][0][\"cluster\"]\n",
    "            tmp = sorted(dsv.pcz.data[h_id][0][\"cluster\"].items(), key=operator.itemgetter(1), reverse=True)\n",
    "\n",
    "            s_id = \"s\" + h_id[1:]\n",
    "            hypo_senses = dsv.pcz.data[s_id][0][\"cluster\"]\n",
    "            log.write(\"\\n{}{}\\n\".format(\n",
    "                h_id, \", \".join(hypo_h_senses)\n",
    "            ))\n",
    "            log.write(\"{}\\n\".format(\n",
    "                \", \".join([\"{}:{}\".format(k,v) for k,v in tmp])\n",
    "            ))\n",
    "            log.write(\"{}{}\\n\".format(\n",
    "                s_id, \", \".join(hypo_senses)\n",
    "            ))\n",
    "\n",
    "            # save relations from the hierarchical context \n",
    "            for hypo_sense in hypo_senses:\n",
    "                for hc_num, hyper_sense in enumerate(hypo_h_senses):\n",
    "                    if hc_num == hc_max: break\n",
    "                    hypo_word = hypo_sense.split(\"#\")[0]\n",
    "                    hyper_word = hyper_sense.split(\"#\")\n",
    "                    if hypo_word != hyper_word:\n",
    "                        out.write(\"{}\\t{}\\n\".format(hypo_word, hyper_word))\n",
    "                bin_count += 1\n",
    "\n",
    "            # save binary relations from a synset\n",
    "            s_synsets = 0\n",
    "            for rh_id, s in dsv.sense_vectors.most_similar(h_id + \"#0\"):\n",
    "                if \"s\" in rh_id:\n",
    "                    hyper_senses = dsv.pcz.data[rh_id.split(\"#\")[0]][0][\"cluster\"]\n",
    "                    if len(hyper_senses) > hyper_synset_max_size: continue\n",
    "\n",
    "                    rh_str = \", \".join(hyper_senses)\n",
    "                    log.write(\"\\t{}:{:.3f} {}\\n\".format(rh_id, s, rh_str))\n",
    "\n",
    "                    for hypo_sense in hypo_senses:\n",
    "                        for hyper_sense in hyper_senses:\n",
    "                            hypo_word = hypo_sense.split(\"#\")[0]\n",
    "                            hyper_word = hyper_sense.split(\"#\")[0]\n",
    "                            if hypo_word != hyper_word:\n",
    "                                out.write(\"{}\\t{}\\n\".format(hypo_word, hyper_word))\n",
    "                            bin_count += 1\n",
    "                    s_synsets += 1\n",
    "\n",
    "                    if s_synsets >= max_synsets: break\n",
    "    out.close()\n",
    "    log.close()\n",
    "    \n",
    "    print(\"# binary relations:\", bin_count)\n",
    "    print(\"binary relations:\", output_fpath)\n",
    "    print(\"log of binary relations:\", output_fpath + \".log\")\n",
    "    \n",
    "    return (bin_count, output_fpath)\n",
    "    \n",
    "\n",
    "output_dir = \"/home/panchenko/tmp/vector-link/konvens/ru/\"\n",
    "pcz_fpath=\"/home/panchenko/tmp/vector-link/konvens/ru/rwn-joint-tfidf-sensegram.tsv\"\n",
    "\n",
    "reload = False\n",
    "try: dsv\n",
    "except NameError: reload = True\n",
    "\n",
    "if reload:\n",
    "    dsv = DenseSenseVectors(\n",
    "        pcz_fpath=pcz_fpath,\n",
    "        word_vectors_obj=None,\n",
    "        save_pkl=True,\n",
    "        sense_dim_num=1000,\n",
    "        norm_type=\"sum\",\n",
    "        weight_type=\"score\",\n",
    "        max_cluster_words=20)\n",
    " \n",
    "# todo = []\n",
    "# for max_top_synsets in range(1,10):\n",
    "#     for max_hyper_synset_size in [3, 5, 10, 15, 20]:\n",
    "#         for hc_max in [1, 2, 3, 0]: \n",
    "#             p = (output_dir, max_top_synsets, max_hyper_synset_size, hc_max)\n",
    "#             todo.append(p)\n",
    "  \n",
    "# with terminating(Pool(32)) as pool:\n",
    "#     for res in pool.imap_unordered(runp, todo):\n",
    "#         print res\n",
    "     \n",
    "# for max_top_synsets in range(1,10):\n",
    "#     for max_hyper_synset_size in [3, 5, 10, 15, 20]:\n",
    "#         for hc_max in [1, 2, 3, 0]: \n",
    "#             print \"=\"*50\n",
    "#             print \"max number of synsets:\", max_top_synsets\n",
    "#             print \"max hyper synset size:\", max_hyper_synset_size\n",
    "#             print \"hc_max:\", hc_max\n",
    "#             run(output_dir, max_top_synsets, max_hyper_synset_size, hc_max)"
   ]
  },
  {
   "cell_type": "code",
   "execution_count": null,
   "metadata": {
    "collapsed": true
   },
   "outputs": [],
   "source": [
    "hs_type = \"h\"\n",
    "min_size = 3\n",
    "n = 0\n",
    "for i, hs_id in enumerate(dsv.pcz.data):\n",
    "    synset_len = len(dsv.pcz.data[hs_id][0][\"cluster\"])\n",
    "    if synset_len >= min_size and hs_type in hs_id:\n",
    "        print \"\\n\", hs_id, \", \".join(dsv.pcz.data[hs_id][0][\"cluster\"])\n",
    "        s_id = \"s\" + hs_id[1:]\n",
    "        print s_id, \", \".join(dsv.pcz.data[s_id][0][\"cluster\"])\n",
    "        for rhs_id, s in dsv.sense_vectors.most_similar(hs_id + \"#0\"):\n",
    "            rhs_str = \", \".join(dsv.pcz.data[rhs_id.split(\"#\")[0]][0][\"cluster\"])\n",
    "            print \"\\t%s:%.3f %s\" % (rhs_id, s, rhs_str)\n",
    "        n += 1\n",
    "    if n > 100: break"
   ]
  },
  {
   "cell_type": "code",
   "execution_count": 2,
   "metadata": {},
   "outputs": [
    {
     "data": {
      "text/plain": [
       "<vector_representations.dense_sense_vectors.DenseSenseVectors at 0x7f2210263358>"
      ]
     },
     "execution_count": 2,
     "metadata": {},
     "output_type": "execute_result"
    }
   ],
   "source": []
  }
 ],
 "metadata": {
  "kernelspec": {
   "display_name": "Python 3",
   "language": "python",
   "name": "python3"
  },
  "language_info": {
   "codemirror_mode": {
    "name": "ipython",
    "version": 3
   },
   "file_extension": ".py",
   "mimetype": "text/x-python",
   "name": "python",
   "nbconvert_exporter": "python",
   "pygments_lexer": "ipython3",
   "version": "3.6.3"
  }
 },
 "nbformat": 4,
 "nbformat_minor": 2
}

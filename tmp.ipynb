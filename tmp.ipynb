{
 "cells": [
  {
   "cell_type": "code",
   "execution_count": 25,
   "metadata": {
    "collapsed": true
   },
   "outputs": [],
   "source": [
    "from gensim.models.keyedvectors import KeyedVectors\n",
    "import faiss\n",
    "import numpy as np\n",
    "\n",
    "w2v_fpath = \"/home/panchenko/sensegram/model/wikipedia-phrases-list-dim300.w2v\"\n",
    "\n",
    "neighbors = 20\n",
    "\n",
    "w2v = KeyedVectors.load_word2vec_format(w2v_fpath, binary=False, unicode_errors='ignore')\n",
    "w2v.init_sims(replace=True)\n",
    "\n",
    "\n",
    "index = faiss.IndexFlatIP(w2v.vector_size)\n",
    "index.add(w2v.syn0norm)\n",
    "\n",
    "word = \"man\"\n"
   ]
  },
  {
   "cell_type": "code",
   "execution_count": null,
   "metadata": {},
   "outputs": [],
   "source": [
    "import codecs\n",
    "\n",
    "nns_fpath = \"model/wikipedia-phrases-list-dim300.neighbors\"\n",
    "neighbors = 200\n",
    "\n",
    "with codecs.open(nns_fpath, \"w\", \"utf-8\") as output:\n",
    "    for i, word in enumerate(w2v.vocab):\n",
    "        X = np.array([w2v[word]])\n",
    "        D, I = index.search(X, neighbors + 1)\n",
    "\n",
    "        for _D, _I in zip(D, I):\n",
    "            for n, (d, i) in enumerate(zip(_D.ravel(), _I.ravel())):\n",
    "                if n > 0:\n",
    "                    output.write(\"{}\\t{}\\t{:f}\\n\".format(word, w2v.index2word[i], d))\n",
    "                    \n",
    "    print(\"Word graph:\", nns_fpath)"
   ]
  },
  {
   "cell_type": "code",
   "execution_count": null,
   "metadata": {
    "collapsed": true
   },
   "outputs": [],
   "source": [
    "   "
   ]
  },
  {
   "cell_type": "code",
   "execution_count": null,
   "metadata": {
    "collapsed": true
   },
   "outputs": [],
   "source": []
  },
  {
   "cell_type": "code",
   "execution_count": 2,
   "metadata": {
    "collapsed": true
   },
   "outputs": [],
   "source": [
    "%load_ext autoreload\n",
    "%autoreload 2\n",
    "%matplotlib inline"
   ]
  },
  {
   "cell_type": "code",
   "execution_count": 24,
   "metadata": {},
   "outputs": [
    {
     "ename": "ImportError",
     "evalue": "cannot import name 'chinese_whispers'",
     "output_type": "error",
     "traceback": [
      "\u001b[0;31m---------------------------------------------------------------------------\u001b[0m",
      "\u001b[0;31mImportError\u001b[0m                               Traceback (most recent call last)",
      "\u001b[0;32m<ipython-input-24-96a76ab09550>\u001b[0m in \u001b[0;36m<module>\u001b[0;34m()\u001b[0m\n\u001b[1;32m      1\u001b[0m \u001b[0;32mimport\u001b[0m \u001b[0mnetworkx\u001b[0m \u001b[0;32mas\u001b[0m \u001b[0mnx\u001b[0m\u001b[0;34m\u001b[0m\u001b[0m\n\u001b[0;32m----> 2\u001b[0;31m \u001b[0;32mfrom\u001b[0m \u001b[0mchinese_whispers\u001b[0m \u001b[0;32mimport\u001b[0m \u001b[0mchinese_whispers\u001b[0m\u001b[0;34m,\u001b[0m \u001b[0mWEIGHTING\u001b[0m\u001b[0;34m,\u001b[0m \u001b[0maggregate_clusters\u001b[0m\u001b[0;34m\u001b[0m\u001b[0m\n\u001b[0m\u001b[1;32m      3\u001b[0m \u001b[0;34m\u001b[0m\u001b[0m\n\u001b[1;32m      4\u001b[0m \u001b[0mG\u001b[0m \u001b[0;34m=\u001b[0m \u001b[0mnx\u001b[0m\u001b[0;34m.\u001b[0m\u001b[0mGraph\u001b[0m\u001b[0;34m(\u001b[0m\u001b[0;34m)\u001b[0m\u001b[0;34m\u001b[0m\u001b[0m\n\u001b[1;32m      5\u001b[0m \u001b[0;34m\u001b[0m\u001b[0m\n",
      "\u001b[0;31mImportError\u001b[0m: cannot import name 'chinese_whispers'"
     ]
    }
   ],
   "source": [
    "import networkx as nx\n",
    "from chinese_whispers import chinese_whispers, WEIGHTING, aggregate_clusters\n",
    "\n",
    "G = nx.Graph()\n",
    "\n",
    "G.add_nodes_from??\n",
    "\n",
    "# sp_index, po_index, so_index = defaultdict(set), defaultdict(set), defaultdict(set)\n",
    "# sp_inverted, po_inverted, so_inverted = defaultdict(set), defaultdict(set), defaultdict(set)\n",
    "\n",
    "# for node in G:\n",
    "#     sp_index[node].add((node.subject, node.predicate))\n",
    "#     po_index[node].add((node.predicate, node.object))\n",
    "#     so_index[node].add((node.subject, node.object))\n",
    "\n",
    "#     sp_inverted[(node.subject, node.predicate)].add(node)\n",
    "#     po_inverted[(node.predicate, node.object)].add(node)\n",
    "#     so_inverted[(node.subject, node.object)].add(node)\n",
    "\n",
    "# for node in G:\n",
    "#     this = {node}\n",
    "\n",
    "#     G.add_edges_from((node, neighbor) for pair in sp_index[node] - this for neighbor in sp_inverted[pair] if node != neighbor)\n",
    "#     G.add_edges_from((node, neighbor) for pair in po_index[node] - this for neighbor in po_inverted[pair] if node != neighbor)\n",
    "#     G.add_edges_from((node, neighbor) for pair in so_index[node] - this for neighbor in so_inverted[pair] if node != neighbor)\n",
    "\n",
    "# for source, target in G.edges_iter():\n",
    "#     G.edge[source][target]['weight'] = mean((\n",
    "#         similarity(w2v, source.subject, target.subject),\n",
    "#         similarity(w2v, source.predicate, target.predicate),\n",
    "#         similarity(w2v, source.object, target.object)\n",
    "#     ))\n",
    "\n",
    "# chinese_whispers(G, WEIGHTING[args.cw])\n",
    "\n",
    "# for label, cluster in sorted(aggregate_clusters(G).items(), key=lambda e: len(e[1]), reverse=True):\n",
    "#     print('# Cluster %d' % label)\n",
    "#     print()\n",
    "\n",
    "#     for triple in cluster:\n",
    "#         print('%s\\t%s\\t%s' % (triple.subject, triple.predicate, triple.object))\n",
    "\n",
    "#     print()"
   ]
  },
  {
   "cell_type": "code",
   "execution_count": null,
   "metadata": {
    "collapsed": true
   },
   "outputs": [],
   "source": []
  },
  {
   "cell_type": "code",
   "execution_count": null,
   "metadata": {
    "collapsed": true
   },
   "outputs": [],
   "source": []
  },
  {
   "cell_type": "code",
   "execution_count": null,
   "metadata": {
    "collapsed": true
   },
   "outputs": [],
   "source": []
  }
 ],
 "metadata": {
  "kernelspec": {
   "display_name": "Python 3",
   "language": "python",
   "name": "python3"
  },
  "language_info": {
   "codemirror_mode": {
    "name": "ipython",
    "version": 3
   },
   "file_extension": ".py",
   "mimetype": "text/x-python",
   "name": "python",
   "nbconvert_exporter": "python",
   "pygments_lexer": "ipython3",
   "version": "3.6.3"
  }
 },
 "nbformat": 4,
 "nbformat_minor": 2
}

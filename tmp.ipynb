{
 "cells": [
  {
   "cell_type": "code",
   "execution_count": 16,
   "metadata": {},
   "outputs": [
    {
     "data": {
      "text/plain": [
       "2861774"
      ]
     },
     "execution_count": 16,
     "metadata": {},
     "output_type": "execute_result"
    }
   ],
   "source": [
    "len(w2v.vocab)"
   ]
  },
  {
   "cell_type": "code",
   "execution_count": 15,
   "metadata": {},
   "outputs": [
    {
     "name": "stdout",
     "output_type": "stream",
     "text": [
      "Word graph: model/wikipedia-phrases-list-dim300.neighbors.all2\n"
     ]
    },
    {
     "ename": "ValueError",
     "evalue": "Unknown format code 'd' for object of type 'float'",
     "output_type": "error",
     "traceback": [
      "\u001b[0;31m---------------------------------------------------------------------------\u001b[0m",
      "\u001b[0;31mValueError\u001b[0m                                Traceback (most recent call last)",
      "\u001b[0;32m<ipython-input-15-d8f9695bef63>\u001b[0m in \u001b[0;36m<module>\u001b[0;34m()\u001b[0m\n\u001b[1;32m     36\u001b[0m \u001b[0;34m\u001b[0m\u001b[0m\n\u001b[1;32m     37\u001b[0m \u001b[0;31m# index = build_vector_index(w2v_fpath)\u001b[0m\u001b[0;34m\u001b[0m\u001b[0;34m\u001b[0m\u001b[0m\n\u001b[0;32m---> 38\u001b[0;31m \u001b[0mcompute_neighbours\u001b[0m\u001b[0;34m(\u001b[0m\u001b[0mindex\u001b[0m\u001b[0;34m,\u001b[0m \u001b[0mnns_fpath\u001b[0m\u001b[0;34m,\u001b[0m \u001b[0mneighbors\u001b[0m\u001b[0;34m=\u001b[0m\u001b[0;36m200\u001b[0m\u001b[0;34m)\u001b[0m\u001b[0;34m\u001b[0m\u001b[0m\n\u001b[0m",
      "\u001b[0;32m<ipython-input-15-d8f9695bef63>\u001b[0m in \u001b[0;36mcompute_neighbours\u001b[0;34m(index, nns_fpath, neighbors)\u001b[0m\n\u001b[1;32m     29\u001b[0m \u001b[0;34m\u001b[0m\u001b[0m\n\u001b[1;32m     30\u001b[0m         \u001b[0mprint\u001b[0m\u001b[0;34m(\u001b[0m\u001b[0;34m\"Word graph:\"\u001b[0m\u001b[0;34m,\u001b[0m \u001b[0mnns_fpath\u001b[0m\u001b[0;34m)\u001b[0m\u001b[0;34m\u001b[0m\u001b[0m\n\u001b[0;32m---> 31\u001b[0;31m         \u001b[0mprint\u001b[0m\u001b[0;34m(\u001b[0m\u001b[0;34m\"Elapsed: {:d} sec.\"\u001b[0m\u001b[0;34m.\u001b[0m\u001b[0mformat\u001b[0m\u001b[0;34m(\u001b[0m\u001b[0mtime\u001b[0m\u001b[0;34m(\u001b[0m\u001b[0;34m)\u001b[0m \u001b[0;34m-\u001b[0m \u001b[0mtic\u001b[0m\u001b[0;34m)\u001b[0m\u001b[0;34m)\u001b[0m\u001b[0;34m\u001b[0m\u001b[0m\n\u001b[0m\u001b[1;32m     32\u001b[0m \u001b[0;34m\u001b[0m\u001b[0m\n\u001b[1;32m     33\u001b[0m \u001b[0;34m\u001b[0m\u001b[0m\n",
      "\u001b[0;31mValueError\u001b[0m: Unknown format code 'd' for object of type 'float'"
     ]
    }
   ],
   "source": [
    "from gensim.models.keyedvectors import KeyedVectors\n",
    "import faiss\n",
    "import numpy as np\n",
    "from time import time\n",
    "import codecs\n",
    "\n",
    "\n",
    "def build_vector_index(w2v_fpath):\n",
    "    w2v = KeyedVectors.load_word2vec_format(w2v_fpath, binary=False, unicode_errors='ignore')\n",
    "    w2v.init_sims(replace=True)\n",
    "    index = faiss.IndexFlatIP(w2v.vector_size)\n",
    "    index.add(w2v.syn0norm)\n",
    "\n",
    "    return index\n",
    "\n",
    "\n",
    "def compute_neighbours(index, nns_fpath, neighbors=200):\n",
    "    tic = time()\n",
    "    with codecs.open(nns_fpath, \"w\", \"utf-8\") as output:\n",
    "        X = w2v.syn0norm\n",
    "        D, I = index.search(X, neighbors + 1)\n",
    "\n",
    "        j = 0\n",
    "        for _D, _I in zip(D, I):\n",
    "            for n, (d, i) in enumerate(zip(_D.ravel(), _I.ravel())):\n",
    "                if n > 0:\n",
    "                    output.write(\"{}\\t{}\\t{:f}\\n\".format(w2v.index2word[j], w2v.index2word[i], d))\n",
    "            j += 1\n",
    "\n",
    "        print(\"Word graph:\", nns_fpath)\n",
    "        print(\"Elapsed: {:d} sec.\".format(time() - tic))\n",
    "        \n",
    "\n",
    "w2v_fpath = \"/home/panchenko/sensegram/model/wikipedia-phrases-list-dim300.w2v\"\n",
    "nns_fpath = \"model/wikipedia-phrases-list-dim300.neighbors.all2\"\n",
    "\n",
    "# index = build_vector_index(w2v_fpath)\n",
    "compute_neighbours(index, nns_fpath, neighbors=200)"
   ]
  },
  {
   "cell_type": "code",
   "execution_count": null,
   "metadata": {},
   "outputs": [],
   "source": []
  }
 ],
 "metadata": {
  "kernelspec": {
   "display_name": "Python 3",
   "language": "python",
   "name": "python3"
  },
  "language_info": {
   "codemirror_mode": {
    "name": "ipython",
    "version": 3
   },
   "file_extension": ".py",
   "mimetype": "text/x-python",
   "name": "python",
   "nbconvert_exporter": "python",
   "pygments_lexer": "ipython3",
   "version": "3.6.3"
  }
 },
 "nbformat": 4,
 "nbformat_minor": 2
}

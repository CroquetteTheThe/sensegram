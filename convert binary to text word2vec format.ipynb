{
 "cells": [
  {
   "cell_type": "code",
   "execution_count": 2,
   "metadata": {},
   "outputs": [],
   "source": [
    "import gensim\n",
    "\n",
    "binary_w2v_fpath = \"model/ukwac.w2v.sense_vectors\"\n",
    "text_w2v_fpath = \"model/ukwac.w2v.txt.sense_vectors\"\n",
    "\n",
    "vectors = gensim.models.KeyedVectors.load_word2vec_format(\n",
    "            binary_w2v_fpath,\n",
    "            binary=True,\n",
    "            unicode_errors='ignore')\n",
    "\n",
    "vectors.init_sims(replace=True)\n",
    "vectors.save_word2vec_format(text_w2v_fpath)"
   ]
  }
 ],
 "metadata": {
  "kernelspec": {
   "display_name": "Python 3",
   "language": "python",
   "name": "python3"
  },
  "language_info": {
   "codemirror_mode": {
    "name": "ipython",
    "version": 3
   },
   "file_extension": ".py",
   "mimetype": "text/x-python",
   "name": "python",
   "nbconvert_exporter": "python",
   "pygments_lexer": "ipython3",
   "version": "3.6.3"
  }
 },
 "nbformat": 4,
 "nbformat_minor": 2
}
